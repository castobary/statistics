{
 "cells": [
  {
   "cell_type": "markdown",
   "metadata": {},
   "source": [
    "## The Mean"
   ]
  },
  {
   "attachments": {},
   "cell_type": "markdown",
   "metadata": {},
   "source": [
    "Is a measure of central tendency that is obtained by taking the sum of values diving  by the total number of values in the distribution"
   ]
  },
  {
   "cell_type": "code",
   "execution_count": 1,
   "metadata": {},
   "outputs": [],
   "source": [
    "distribution = [0,2,3,3,3,4,13]\n",
    "mean = sum(distribution) / len(distribution)\n",
    "center = False\n",
    "\n",
    "above = []\n",
    "below = []\n",
    "\n",
    "for value in distribution:\n",
    "    if value < mean:\n",
    "        below.append(mean - value)\n",
    "    if value > mean:\n",
    "        above.append(value - mean)\n",
    "        \n",
    "equal_distances = (sum(above) == sum(below))"
   ]
  },
  {
   "cell_type": "code",
   "execution_count": 2,
   "metadata": {},
   "outputs": [
    {
     "data": {
      "text/plain": [
       "True"
      ]
     },
     "execution_count": 2,
     "metadata": {},
     "output_type": "execute_result"
    }
   ],
   "source": [
    "equal_distances"
   ]
  },
  {
   "attachments": {},
   "cell_type": "markdown",
   "metadata": {},
   "source": [
    "From above, we can think of the mean as the value located at that particular point in the distribution where the total distance of the values below the mean is the same as the total distance of the values that are above the mean."
   ]
  },
  {
   "attachments": {},
   "cell_type": "markdown",
   "metadata": {},
   "source": [
    "##  Task\n",
    "\n",
    "Generate 5000 different distributions, measure the total distances above and below the mean, and check whether they are equal. For each of the 5000 iterations of a for loop:\n",
    "\n",
    "+ Set a seed using the seed() function from numpy.random. For the first iteration, the seed number should be 0, for the second iteration it should be 1, for the third it should be 2, and so on.\n",
    "+ Generate randomly a distribution of integers using the `randint()` function from numpy.random. Pass the right arguments to randint() such that each distribution will:\n",
    "\n",
    "        + Have 10 values.\n",
    "        + The values can range from 0 to 1000.\n",
    "+ Compute the mean of the distribution.\n",
    "+ Measure the total distance above and below the mean.\n",
    "\n",
    "       + Round off each distance to 1 decimal place using the `round()` function. This will prevent rounding errors at the 13th or 14th decimal place.\n",
    "+ Compare the two sums. If they are equal, then increment a variable named equal_distances with 1. You'll need to define equal_distances outside the loop with a value of 0.\n",
    "\n",
    "At the end equal_distances should have a value of 5000. This will confirm that for each of the 5000 distributions the total distance of the values above the mean is equal to the total distance of the values below the mean.\n"
   ]
  },
  {
   "cell_type": "code",
   "execution_count": 1,
   "metadata": {},
   "outputs": [],
   "source": [
    "from numpy.random import randint, seed\n",
    "equal_distances = 0\n",
    "\n",
    "for i in range(5000):\n",
    "    seed(i)\n",
    "    distribution = randint(0,1000,10)\n",
    "    mean = sum(distribution) / len(distribution)\n",
    "    \n",
    "    above = []\n",
    "    below = []\n",
    "    for value in distribution:\n",
    "        if value == mean:\n",
    "            continue # continue with the next iteration because the distance is 0\n",
    "        if value < mean:\n",
    "            below.append(mean - value)\n",
    "        if value > mean:\n",
    "            above.append(value - mean)\n",
    "    \n",
    "    sum_above = round(sum(above),1)\n",
    "    sum_below = round(sum(below),1)\n",
    "    if (sum_above == sum_below):\n",
    "        equal_distances += 1"
   ]
  },
  {
   "cell_type": "code",
   "execution_count": 2,
   "metadata": {},
   "outputs": [
    {
     "data": {
      "text/plain": [
       "5000"
      ]
     },
     "execution_count": 2,
     "metadata": {},
     "output_type": "execute_result"
    }
   ],
   "source": [
    "equal_distances"
   ]
  },
  {
   "attachments": {},
   "cell_type": "markdown",
   "metadata": {},
   "source": [
    "Creating a function for calculating mean"
   ]
  },
  {
   "cell_type": "code",
   "execution_count": 3,
   "metadata": {},
   "outputs": [],
   "source": [
    "distribution_1 = [42, 24, 32, 11]\n",
    "distribution_2 = [102, 32, 74, 15, 38, 45, 22]\n",
    "distribution_3 = [3, 12, 7, 2, 15, 1, 21]\n",
    "def mean(distribution):\n",
    "    sum_distribution = 0\n",
    "    for value in distribution:\n",
    "        sum_distribution += value\n",
    "        \n",
    "    return sum_distribution / len(distribution)\n",
    "\n",
    "mean_1 = mean(distribution_1)\n",
    "mean_2 = mean(distribution_2)\n",
    "mean_3 = mean(distribution_3)"
   ]
  },
  {
   "attachments": {},
   "cell_type": "markdown",
   "metadata": {},
   "source": [
    "### Introducing the dataset\n",
    "\n",
    "We'll be working with a data set that describes characteristics of houses sold between 2006 and 2010 in the city of Ames (located in the American state of Iowa). There are 2930 rows in the data set, and each row describes a house. For each house there are 82 characteristics described, which means there are 82 columns in the data set. \n",
    "\n",
    "A paper which describes the dataset [Ames Housing Dataset Details](data/Ames%20Iowa%20Alternative%20to%20the%20Boston%20Housing%20Data%20as%20an%20End%20of%20Semester%20Regression%20Project.pdf)"
   ]
  }
 ],
 "metadata": {
  "kernelspec": {
   "display_name": "base",
   "language": "python",
   "name": "python3"
  },
  "language_info": {
   "codemirror_mode": {
    "name": "ipython",
    "version": 3
   },
   "file_extension": ".py",
   "mimetype": "text/x-python",
   "name": "python",
   "nbconvert_exporter": "python",
   "pygments_lexer": "ipython3",
   "version": "3.9.12"
  },
  "orig_nbformat": 4,
  "vscode": {
   "interpreter": {
    "hash": "d0028ce20b428eb90286e675cfc9d586ae702ba0463c3d3b035a87d9639116bc"
   }
  }
 },
 "nbformat": 4,
 "nbformat_minor": 2
}
