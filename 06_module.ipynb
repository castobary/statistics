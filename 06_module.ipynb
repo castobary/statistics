{
 "cells": [
  {
   "cell_type": "markdown",
   "metadata": {},
   "source": [
    "## The Mean"
   ]
  },
  {
   "attachments": {},
   "cell_type": "markdown",
   "metadata": {},
   "source": [
    "Is a measure of central tendency that is obtained by taking the sum of values diving  by the total number of values in the distribution"
   ]
  },
  {
   "cell_type": "code",
   "execution_count": 1,
   "metadata": {},
   "outputs": [],
   "source": [
    "distribution = [0,2,3,3,3,4,13]\n",
    "mean = sum(distribution) / len(distribution)\n",
    "center = False\n",
    "\n",
    "above = []\n",
    "below = []\n",
    "\n",
    "for value in distribution:\n",
    "    if value < mean:\n",
    "        below.append(mean - value)\n",
    "    if value > mean:\n",
    "        above.append(value - mean)\n",
    "        \n",
    "equal_distances = (sum(above) == sum(below))"
   ]
  },
  {
   "cell_type": "code",
   "execution_count": 2,
   "metadata": {},
   "outputs": [
    {
     "data": {
      "text/plain": [
       "True"
      ]
     },
     "execution_count": 2,
     "metadata": {},
     "output_type": "execute_result"
    }
   ],
   "source": [
    "equal_distances"
   ]
  },
  {
   "attachments": {},
   "cell_type": "markdown",
   "metadata": {},
   "source": [
    "From above, we can think of the mean as the value located at that particular point in the distribution where the total distance of the values below the mean is the same as the total distance of the values that are above the mean."
   ]
  },
  {
   "attachments": {},
   "cell_type": "markdown",
   "metadata": {},
   "source": [
    "##  Task\n",
    "\n",
    "Generate 5000 different distributions, measure the total distances above and below the mean, and check whether they are equal. For each of the 5000 iterations of a for loop:\n",
    "\n",
    "+ Set a seed using the seed() function from numpy.random. For the first iteration, the seed number should be 0, for the second iteration it should be 1, for the third it should be 2, and so on.\n",
    "+ Generate randomly a distribution of integers using the `randint()` function from numpy.random. Pass the right arguments to randint() such that each distribution will:\n",
    "\n",
    "        + Have 10 values.\n",
    "        + The values can range from 0 to 1000.\n",
    "+ Compute the mean of the distribution.\n",
    "+ Measure the total distance above and below the mean.\n",
    "\n",
    "       + Round off each distance to 1 decimal place using the `round()` function. This will prevent rounding errors at the 13th or 14th decimal place.\n",
    "+ Compare the two sums. If they are equal, then increment a variable named equal_distances with 1. You'll need to define equal_distances outside the loop with a value of 0.\n",
    "\n",
    "At the end equal_distances should have a value of 5000. This will confirm that for each of the 5000 distributions the total distance of the values above the mean is equal to the total distance of the values below the mean.\n"
   ]
  },
  {
   "cell_type": "code",
   "execution_count": 1,
   "metadata": {},
   "outputs": [],
   "source": [
    "from numpy.random import randint, seed\n",
    "equal_distances = 0\n",
    "\n",
    "for i in range(5000):\n",
    "    seed(i)\n",
    "    distribution = randint(0,1000,10)\n",
    "    mean = sum(distribution) / len(distribution)\n",
    "    \n",
    "    above = []\n",
    "    below = []\n",
    "    for value in distribution:\n",
    "        if value == mean:\n",
    "            continue # continue with the next iteration because the distance is 0\n",
    "        if value < mean:\n",
    "            below.append(mean - value)\n",
    "        if value > mean:\n",
    "            above.append(value - mean)\n",
    "    \n",
    "    sum_above = round(sum(above),1)\n",
    "    sum_below = round(sum(below),1)\n",
    "    if (sum_above == sum_below):\n",
    "        equal_distances += 1"
   ]
  },
  {
   "cell_type": "code",
   "execution_count": 2,
   "metadata": {},
   "outputs": [
    {
     "data": {
      "text/plain": [
       "5000"
      ]
     },
     "execution_count": 2,
     "metadata": {},
     "output_type": "execute_result"
    }
   ],
   "source": [
    "equal_distances"
   ]
  },
  {
   "attachments": {},
   "cell_type": "markdown",
   "metadata": {},
   "source": [
    "Creating a function for calculating mean"
   ]
  },
  {
   "cell_type": "code",
   "execution_count": 3,
   "metadata": {},
   "outputs": [],
   "source": [
    "distribution_1 = [42, 24, 32, 11]\n",
    "distribution_2 = [102, 32, 74, 15, 38, 45, 22]\n",
    "distribution_3 = [3, 12, 7, 2, 15, 1, 21]\n",
    "def mean(distribution):\n",
    "    sum_distribution = 0\n",
    "    for value in distribution:\n",
    "        sum_distribution += value\n",
    "        \n",
    "    return sum_distribution / len(distribution)\n",
    "\n",
    "mean_1 = mean(distribution_1)\n",
    "mean_2 = mean(distribution_2)\n",
    "mean_3 = mean(distribution_3)"
   ]
  },
  {
   "attachments": {},
   "cell_type": "markdown",
   "metadata": {},
   "source": [
    "### Introducing the dataset\n",
    "\n",
    "We'll be working with a data set that describes characteristics of houses sold between 2006 and 2010 in the city of Ames (located in the American state of Iowa). There are 2930 rows in the data set, and each row describes a house. For each house there are 82 characteristics described, which means there are 82 columns in the data set. \n",
    "\n",
    "A paper which describes the dataset [Ames Housing Dataset Details](data/Ames%20Iowa%20Alternative%20to%20the%20Boston%20Housing%20Data%20as%20an%20End%20of%20Semester%20Regression%20Project.pdf)"
   ]
  },
  {
   "cell_type": "code",
   "execution_count": 1,
   "metadata": {},
   "outputs": [],
   "source": [
    "import pandas as pd\n",
    "\n",
    "houses = pd.read_table('data/AmesHousing_1.txt')"
   ]
  },
  {
   "attachments": {},
   "cell_type": "markdown",
   "metadata": {},
   "source": [
    "Distribution of sales prices of houses"
   ]
  },
  {
   "cell_type": "code",
   "execution_count": 2,
   "metadata": {},
   "outputs": [
    {
     "data": {
      "text/plain": [
       "count      2930.000000\n",
       "mean     180796.060068\n",
       "std       79886.692357\n",
       "min       12789.000000\n",
       "25%      129500.000000\n",
       "50%      160000.000000\n",
       "75%      213500.000000\n",
       "max      755000.000000\n",
       "Name: SalePrice, dtype: float64"
      ]
     },
     "execution_count": 2,
     "metadata": {},
     "output_type": "execute_result"
    }
   ],
   "source": [
    "houses['SalePrice'].describe()"
   ]
  },
  {
   "attachments": {},
   "cell_type": "markdown",
   "metadata": {},
   "source": [
    "We can see that the distribution has a large range: the minimum sale price is $12789 while the maximum is $755000. Among this diversity of prices, we can see that the mean (or the \"balance point\") of this distribution is approximately $180796. The mean gives us a sense about the typical sale price in this distribution of 2930 prices."
   ]
  },
  {
   "attachments": {},
   "cell_type": "markdown",
   "metadata": {},
   "source": [
    "Calculating just the mean"
   ]
  },
  {
   "cell_type": "code",
   "execution_count": 3,
   "metadata": {},
   "outputs": [
    {
     "data": {
      "text/plain": [
       "180796.0600682594"
      ]
     },
     "execution_count": 3,
     "metadata": {},
     "output_type": "execute_result"
    }
   ],
   "source": [
    "houses['SalePrice'].mean()"
   ]
  },
  {
   "attachments": {},
   "cell_type": "markdown",
   "metadata": {},
   "source": [
    "Comparing means calculated by two different ways"
   ]
  },
  {
   "cell_type": "code",
   "execution_count": 4,
   "metadata": {},
   "outputs": [],
   "source": [
    "def mean(distribution):\n",
    "    sum_distribution = 0\n",
    "    for value in distribution:\n",
    "        sum_distribution += value\n",
    "        \n",
    "    return sum_distribution / len(distribution)\n",
    "function_mean = mean(houses['SalePrice'])\n",
    "pandas_mean = houses['SalePrice'].mean()\n",
    "means_are_equal = (function_mean == pandas_mean)"
   ]
  },
  {
   "attachments": {},
   "cell_type": "markdown",
   "metadata": {},
   "source": [
    "### Estimating population mean\n",
    "\n",
    "In the exercise below, we'll try to visualize on a scatter plot how the sampling error changes as we increase the sample size. Just to prove a point, we'll assume that our data set describes all the houses sold in Ames, Iowa between 2006 and 2010.\n",
    "\n",
    "#### Instructions\n",
    "\n",
    "\n",
    "\n",
    "1. Compute the mean of the SalePrice variable. We'll assume that the data we have is a population relative to the question \"What's the mean sale price of a house in Ames, Iowa for the period 2006-2010?\".\n",
    "\n",
    "2. For each iteration of a for loop that iterates 101 times:\n",
    "\n",
    "  + Sample the SalePrice distribution using the Series.sample() method.\n",
    "\n",
    "    + For the first iteration, the random_state parameter is 0, for the second iteration is 1, for the third is 2, and so on.\n",
    "    + For the first iteration, the sample size is 5.\n",
    "    + The last sample size is 2905 (which is close to 2930, the population's size).\n",
    "    + To achieve that, you'll need to increment the sample size by 29 for every new iteration. Note that you'll first have to define the sample size with a value of 5 outside the loop.\n",
    "    \n",
    " + Compute the sample mean.\n",
    " + Compute the sampling error. For answer checking purposes, use parameter−statistic, not statistic−parameter\n",
    "\n",
    "3. Generate a scatter plot to represent visually how the sampling error changes as the sample size increases.\n",
    "\n",
    "+ Place the sample sizes on the x-axis.\n",
    "+ Place the sampling errors on the y-axis.\n",
    "+ Use `plt.axhline()` to generate a horizontal line at 0 to illustrate the point where the sampling error is 0.\n",
    "+ Use `plt.axvline()` to generate a vertical line at 2930 to illustrate the population size.\n",
    "+ Label the x-axis \"Sample size\".\n",
    "+ Label the y-axis \"Sampling error\"."
   ]
  },
  {
   "cell_type": "code",
   "execution_count": 5,
   "metadata": {},
   "outputs": [
    {
     "data": {
      "text/plain": [
       "Text(0, 0.5, 'Sampling error')"
      ]
     },
     "execution_count": 5,
     "metadata": {},
     "output_type": "execute_result"
    },
    {
     "data": {
      "image/png": "[encoded data removed]",
      "text/plain": [
       "<Figure size 640x480 with 1 Axes>"
      ]
     },
     "metadata": {},
     "output_type": "display_data"
    }
   ],
   "source": [
    "parameter = houses['SalePrice'].mean()\n",
    "sample_size = 5\n",
    "\n",
    "sample_sizes = []\n",
    "sampling_errors = []\n",
    "\n",
    "for i in range(101):\n",
    "    sample = houses['SalePrice'].sample(sample_size , random_state = i)\n",
    "    statistic = sample.mean()\n",
    "    sampling_error = parameter - statistic\n",
    "    sampling_errors.append(sampling_error)\n",
    "    sample_sizes.append(sample_size)\n",
    "    sample_size += 29\n",
    "    \n",
    "import matplotlib.pyplot as plt\n",
    "plt.scatter(sample_sizes, sampling_errors)\n",
    "plt.axhline(0)\n",
    "plt.axvline(2930)\n",
    "plt.xlabel('Sample size')\n",
    "plt.ylabel('Sampling error')"
   ]
  },
  {
   "attachments": {},
   "cell_type": "markdown",
   "metadata": {},
   "source": [
    "As seen above, the general tendency for the sampling error is to decrease as the sample size increases. This tendency, however, has exceptions. For instance, there are cases where small sample sizes (100-500 sample points) gave us better estimates for the population mean μ than large sample sizes (2500 sample points or more) did.\n",
    "\n",
    "![Smaller samples better](img/s2m1_smaller_samples_better.svg)\n",
    "\n",
    "For any given sample size, we can have many combinations of values. For instance, for a sample size of 3, we can have many possible combinations of sale prices: [220000, 143000, 281000], [123600, 209500, 202665], [287000, 142500, 440000], etc. Most of the samples of size 3 will give a good estimate of the population mean μ\n",
    "\n",
    "To prove this point, in the code below we will:\n",
    "\n",
    "+ Measure the mean for 10000 samples of size 3.\n",
    "+ Use a histogram to visualize the distribution of the sample means.\n",
    "+ Draw a vertical line corresponding to the population mean μ"
   ]
  },
  {
   "cell_type": "code",
   "execution_count": 6,
   "metadata": {},
   "outputs": [
    {
     "data": {
      "text/plain": [
       "<matplotlib.lines.Line2D at 0x7f074a333730>"
      ]
     },
     "execution_count": 6,
     "metadata": {},
     "output_type": "execute_result"
    },
    {
     "data": {
      "image/png": "[encoded data removed]",
      "text/plain": [
       "<Figure size 640x480 with 1 Axes>"
      ]
     },
     "metadata": {},
     "output_type": "display_data"
    }
   ],
   "source": [
    "means = []\n",
    "for i in range(10000):\n",
    "    sample = houses['SalePrice'].sample(3, random_state=i)\n",
    "    means.append(sample.mean())\n",
    "\n",
    "plt.hist(means)\n",
    "plt.axvline(houses['SalePrice'].mean())"
   ]
  },
  {
   "cell_type": "markdown",
   "metadata": {},
   "source": [
    "We can see that most sample means cluster around the population mean. This means that when we take a sample of size 3 and compute ¯x, we have fairly good chances to get a good estimate for the population mean μ. This explains what we've seen in the scatter plot above, where we got good estimates from low-sized samples."
   ]
  },
  {
   "attachments": {},
   "cell_type": "markdown",
   "metadata": {},
   "source": [
    "#### Instructions\n",
    "\n",
    "Take 10000 samples of sample size 100 from the population of sale prices and measure the mean of each sample. For each of the 10000 iterations of a for loop:\n",
    "\n",
    "+ Use `Series.sample()` to take a sample of size 100 from the SalePrice variable. The random_state parameter is 0 for the first iteration, 1 for the second iteration, 2 for the third iteration, and so on.\n",
    "+ Compute the mean of the sample.\n",
    "\n",
    "+ Use `plt.hist()` to generate a histogram to visualize the distribution of sample means.\n",
    "\n",
    " + Draw a vertical line for the population mean.\n",
    " + Label the x-axis \"Sample mean\".\n",
    " + Label the y-axis \"Frequency\".\n",
    " + Set the range of the x-axis to (0,500000). This is the same range as the histogram we built above has. Can you observe any obvious difference between the two histograms now that we've increased the sample size?\n"
   ]
  },
  {
   "cell_type": "code",
   "execution_count": 7,
   "metadata": {},
   "outputs": [
    {
     "data": {
      "text/plain": [
       "(0.0, 500000.0)"
      ]
     },
     "execution_count": 7,
     "metadata": {},
     "output_type": "execute_result"
    },
    {
     "data": {
      "image/png": "[encoded data removed]",
      "text/plain": [
       "<Figure size 640x480 with 1 Axes>"
      ]
     },
     "metadata": {},
     "output_type": "display_data"
    }
   ],
   "source": [
    "means = []\n",
    "\n",
    "for i in range(10000):\n",
    "    sample = houses['SalePrice'].sample(100, random_state=i)\n",
    "    means.append(sample.mean())\n",
    "    \n",
    "plt.hist(means)\n",
    "plt.axvline(houses['SalePrice'].mean())\n",
    "plt.xlabel('Sample mean')\n",
    "plt.ylabel('Frequency')\n",
    "plt.xlim(0,500000)"
   ]
  },
  {
   "attachments": {},
   "cell_type": "markdown",
   "metadata": {},
   "source": [
    "Generally, as we increase the sample size, there will be less and less variability around the population mean. If there's less variability, there are less chances to get a poor estimate for the population mean — the worst sample means we can get are fairly close to the population mean, which is good."
   ]
  },
  {
   "attachments": {},
   "cell_type": "markdown",
   "metadata": {},
   "source": [
    "Larger sample sizes are best estimators of population mean"
   ]
  },
  {
   "attachments": {},
   "cell_type": "markdown",
   "metadata": {},
   "source": [
    "![Variability](img/s2m1_sampling_distros.png)"
   ]
  },
  {
   "attachments": {},
   "cell_type": "markdown",
   "metadata": {},
   "source": [
    "#### Mean as Unbiased Estimator\n",
    "\n",
    "For many possible sampling combinations the mean will be the same\n",
    "\n",
    "When a statistic is on average equal to the parameter it estimates, we call that statistic an unbiased estimator. In our case, the sample mean ¯x is an unbiased estimator for the population mean μ"
   ]
  },
  {
   "cell_type": "code",
   "execution_count": 8,
   "metadata": {},
   "outputs": [],
   "source": [
    "population = [3, 7, 2]\n",
    "samples = [[3, 7], [3, 2],\n",
    "           [7, 2], [7, 3],\n",
    "           [2, 3], [2, 7]\n",
    "          ]\n",
    "\n",
    "sample_means = []\n",
    "for sample in samples:\n",
    "    sample_means.append(sum(sample) / len(sample))\n",
    "    \n",
    "population_mean = sum(population) / len(population)\n",
    "mean_of_sample_means = sum(sample_means) / len(sample_means)\n",
    "\n",
    "unbiased = (population_mean == mean_of_sample_means)"
   ]
  },
  {
   "attachments": {},
   "cell_type": "markdown",
   "metadata": {},
   "source": [
    "### Weighted Mean\n",
    "\n",
    "The weighted arithmetic mean is similar to an ordinary arithmetic mean (the most common type of average), except that instead of each of the data points contributing equally to the final average, some data points contribute more than others. The notion of weighted mean plays a role in descriptive statistics and also occurs in a more general form in several other areas of mathematics. "
   ]
  },
  {
   "attachments": {},
   "cell_type": "markdown",
   "metadata": {},
   "source": [
    "### Finding Median\n",
    "\n",
    "+ Find the median value of the TotRms AbvGrd column. [Total rooms above the ground]\n",
    "\n",
    "+ Sort the values in the column in ascending order.\n",
    "    \n",
    "    + Replace the '10 or more' value with the integer 10 using the `Series.replace()` method. We do this only for sorting purposes. To avoid modifying the data in the original data set, make a copy of the column using the `Series.copy()` method and save it to a distinct variable.\n",
    "    + Convert the column to the int type using the `Series.astype()` method.\n",
    "    + Sort the values in ascending order using the `Series.sort_values()` method.\n",
    "\n",
    "+  Depending on whether the distribution has an odd or even number of values, find the median and assign it to a variable named median.\n"
   ]
  },
  {
   "cell_type": "code",
   "execution_count": 10,
   "metadata": {},
   "outputs": [
    {
     "data": {
      "text/plain": [
       "6             844\n",
       "7             649\n",
       "5             586\n",
       "8             347\n",
       "4             203\n",
       "9             143\n",
       "10 or more    131\n",
       "3              26\n",
       "2               1\n",
       "Name: TotRms AbvGrd, dtype: int64"
      ]
     },
     "execution_count": 10,
     "metadata": {},
     "output_type": "execute_result"
    }
   ],
   "source": [
    "houses['TotRms AbvGrd'].value_counts()"
   ]
  },
  {
   "cell_type": "code",
   "execution_count": 9,
   "metadata": {},
   "outputs": [],
   "source": [
    "houses_new = houses.copy()\n",
    "houses_new['TotRms AbvGrd'] = houses_new['TotRms AbvGrd'].replace('10 or more', 10)\n",
    "houses_new['TotRms AbvGrd'] = houses_new['TotRms AbvGrd'].astype('int')\n",
    "houses_new['TotRms AbvGrd'].sort_values().iloc[1464:1466]\n",
    "median=6"
   ]
  },
  {
   "attachments": {},
   "cell_type": "markdown",
   "metadata": {},
   "source": [
    "#### Median a resistant statistic\n",
    "\n",
    "+ The `Lot Area` and `SalePrice` variables have outliers. Confirm this information by visualizing the distributions using a box plot. Remember from the previous course that outliers will appear as dots on the graph.\n",
    "    + You can use the `Series.plot.box()` method.\n",
    "    \n",
    "+ Compute the median and the mean for each of the two variables.\n",
    "    + Because the variables are numerical, you can use the `Series.median()` method and the `Series.mean()` method.\n",
    "\n",
    "+  For each variable, compute the difference between the mean and the median. \n",
    "    + Assign the difference for the Lot Area column to a variable named lotarea_difference.\n",
    "    + Assign the difference for the SalePrice column to a variable named saleprice_difference.\n",
    "    + Inspect the differences. Do you find the differences large?\n"
   ]
  },
  {
   "cell_type": "code",
   "execution_count": 11,
   "metadata": {},
   "outputs": [
    {
     "data": {
      "text/plain": [
       "<AxesSubplot:>"
      ]
     },
     "execution_count": 11,
     "metadata": {},
     "output_type": "execute_result"
    },
    {
     "data": {
      "image/png": "[encoded data removed]",
      "text/plain": [
       "<Figure size 640x480 with 1 Axes>"
      ]
     },
     "metadata": {},
     "output_type": "display_data"
    }
   ],
   "source": [
    "houses['Lot Area'].plot.box()"
   ]
  },
  {
   "cell_type": "code",
   "execution_count": 12,
   "metadata": {},
   "outputs": [
    {
     "data": {
      "text/plain": [
       "<AxesSubplot:>"
      ]
     },
     "execution_count": 12,
     "metadata": {},
     "output_type": "execute_result"
    },
    {
     "data": {
      "image/png": "[encoded data removed]",
      "text/plain": [
       "<Figure size 640x480 with 1 Axes>"
      ]
     },
     "metadata": {},
     "output_type": "display_data"
    }
   ],
   "source": [
    "houses['SalePrice'].plot.box()\n"
   ]
  },
  {
   "cell_type": "code",
   "execution_count": 13,
   "metadata": {},
   "outputs": [],
   "source": [
    "a= houses['Lot Area'].median()\n",
    "b=houses['SalePrice'].median()\n",
    "c=houses['Lot Area'].mean()\n",
    "d=houses['SalePrice'].mean()\n",
    "lotarea_difference=c-a\n",
    "saleprice_difference=d-b"
   ]
  },
  {
   "cell_type": "code",
   "execution_count": 14,
   "metadata": {},
   "outputs": [
    {
     "data": {
      "text/plain": [
       "3680.7051194539254"
      ]
     },
     "execution_count": 14,
     "metadata": {},
     "output_type": "execute_result"
    }
   ],
   "source": [
    "lotarea_difference"
   ]
  },
  {
   "cell_type": "code",
   "execution_count": 16,
   "metadata": {},
   "outputs": [
    {
     "data": {
      "text/plain": [
       "20796.060068259394"
      ]
     },
     "execution_count": 16,
     "metadata": {},
     "output_type": "execute_result"
    }
   ],
   "source": [
    "saleprice_difference"
   ]
  },
  {
   "attachments": {},
   "cell_type": "markdown",
   "metadata": {},
   "source": [
    "### The Median for Ordinal Scales\n",
    "\n",
    "Data points belonging to ordinal variables are often coded using numbers. Consider the frequency distribution of the Overall Cond variable, which rates the overall condition of a house:"
   ]
  },
  {
   "cell_type": "code",
   "execution_count": 17,
   "metadata": {},
   "outputs": [
    {
     "data": {
      "text/plain": [
       "1       7\n",
       "2      10\n",
       "3      50\n",
       "4     101\n",
       "5    1654\n",
       "6     533\n",
       "7     390\n",
       "8     144\n",
       "9      41\n",
       "Name: Overall Cond, dtype: int64"
      ]
     },
     "execution_count": 17,
     "metadata": {},
     "output_type": "execute_result"
    }
   ],
   "source": [
    "houses['Overall Cond'].value_counts().sort_index()"
   ]
  },
  {
   "attachments": {},
   "cell_type": "markdown",
   "metadata": {},
   "source": [
    "Because words like \"fair\" or \"average\" are coded with numbers, it becomes mathematically possible to compute the mean. But whether or not it's theoretically sound to compute the mean for ordinal variables is contentious."
   ]
  },
  {
   "attachments": {},
   "cell_type": "markdown",
   "metadata": {},
   "source": [
    "The numerical values of an ordinal variable are not subject to meaningful arithmetical operations. But computing the mean involves meaningful arithmetical operations, so it's not theoretically sound to use the mean for ordinal variables.\n",
    "\n",
    "Because the median doesn't involve arithmetical operations, it's considered a better alternative to the mean. This doesn't fully apply, however, to even-numbered distributions, where we need to take the mean of the middle two values to find the median."
   ]
  },
  {
   "attachments": {},
   "cell_type": "markdown",
   "metadata": {},
   "source": [
    "Find the mean and the median of the Overall Cond variable.\n",
    "\n",
    "+ Assign the mean to a variable named mean.\n",
    "+ Assign the median to a variable named median.\n",
    "\n",
    "Plot a histogram to visualize the distribution of the Overall Cond variable. Between the mean and the median, which one do you think describes better the shape of the histogram?\n",
    "\n",
    "+ If you think it's the mean, assign the string 'mean' to a variable named more_representative, otherwise assign 'median'"
   ]
  },
  {
   "cell_type": "code",
   "execution_count": 18,
   "metadata": {},
   "outputs": [
    {
     "data": {
      "image/png": "[encoded data removed]",
      "text/plain": [
       "<Figure size 640x480 with 1 Axes>"
      ]
     },
     "metadata": {},
     "output_type": "display_data"
    }
   ],
   "source": [
    "mean = houses['Overall Cond'].mean()\n",
    "median =  houses['Overall Cond'].median()\n",
    "\n",
    "houses['Overall Cond'].plot.hist()\n",
    "\n",
    "more_representative = 'mean'"
   ]
  },
  {
   "attachments": {},
   "cell_type": "markdown",
   "metadata": {},
   "source": [
    "Although it can be argued that it's theoretically unsound to compute the mean for ordinal variables, in the last exercise we found the mean more informative and representative than the median. The truth is that in practice many people get past the theoretical hurdles and use the mean nonetheless because in many cases it's much richer in information than the median."
   ]
  },
  {
   "attachments": {},
   "cell_type": "markdown",
   "metadata": {},
   "source": [
    "## Mode\n",
    "\n",
    "+ Th most frequent value in a distribution\n",
    "+ `Series.mode()`\n",
    "Start from this task\n",
    "\n",
    "1. Explore the Land Slope column to find its scale of measurement. Refer to the documentation to find the data dictionary of this column.\n",
    "\n",
    " + Assign your answer as a string to the variable scale_land. Depending on the scale of measurement, choose between these following strings: 'nominal', 'ordinal', 'interval', and 'ratio'.\n",
    "\n",
    "2. Explore the Roof Style variable and find its scale of measurement. Assign your answer as a string to a variable named scale_roof (choose between the four strings listed above).\n",
    "\n",
    "+ What measure of average would you choose for this column?\n",
    "\n",
    "3. Explore the Kitchen AbvGr variable and determine whether it's continuous or discrete. Assign your answer as a string to a variable named kitchen_variable — the string should be either 'continuous', or 'discrete'"
   ]
  },
  {
   "cell_type": "code",
   "execution_count": 20,
   "metadata": {},
   "outputs": [
    {
     "data": {
      "text/plain": [
       "count     2930\n",
       "unique       3\n",
       "top        Gtl\n",
       "freq      2789\n",
       "Name: Land Slope, dtype: object"
      ]
     },
     "execution_count": 20,
     "metadata": {},
     "output_type": "execute_result"
    }
   ],
   "source": [
    "houses['Land Slope'].describe()"
   ]
  },
  {
   "cell_type": "code",
   "execution_count": 27,
   "metadata": {},
   "outputs": [
    {
     "data": {
      "text/plain": [
       "array(['Gtl', 'Mod', 'Sev'], dtype=object)"
      ]
     },
     "execution_count": 27,
     "metadata": {},
     "output_type": "execute_result"
    }
   ],
   "source": [
    "houses['Land Slope'].unique()"
   ]
  },
  {
   "cell_type": "code",
   "execution_count": 21,
   "metadata": {},
   "outputs": [
    {
     "data": {
      "text/plain": [
       "Gtl    2789\n",
       "Mod     125\n",
       "Sev      16\n",
       "Name: Land Slope, dtype: int64"
      ]
     },
     "execution_count": 21,
     "metadata": {},
     "output_type": "execute_result"
    }
   ],
   "source": [
    "houses['Land Slope'].value_counts()"
   ]
  },
  {
   "cell_type": "code",
   "execution_count": 28,
   "metadata": {},
   "outputs": [
    {
     "data": {
      "text/plain": [
       "0    Gtl\n",
       "Name: Land Slope, dtype: object"
      ]
     },
     "execution_count": 28,
     "metadata": {},
     "output_type": "execute_result"
    }
   ],
   "source": [
    "houses['Land Slope'].mode()"
   ]
  },
  {
   "attachments": {},
   "cell_type": "markdown",
   "metadata": {},
   "source": [
    "A custom function for mode\n",
    "Write a function that takes in an array of values (including strings) and returns the mode of that array. Inside the function's definition:\n",
    "\n",
    "+ Initialize an empty dictionary.\n",
    "\n",
    "+ Loop through the values of the array that the function takes in. For each iteration of the loop:\n",
    "\n",
    "  + If the value is already a key in the dictionary we initialized before the loop, increment its dictionary value by 1.\n",
    "  + Else, define the value as a key in the dictionary, and set the initial dictionary value to 1.\n",
    "\n"
   ]
  },
  {
   "cell_type": "code",
   "execution_count": 29,
   "metadata": {},
   "outputs": [],
   "source": [
    "def mode(array):\n",
    "    counts = {}\n",
    "    \n",
    "    for value in array:\n",
    "        if value in counts:\n",
    "            counts[value] += 1\n",
    "        else:\n",
    "            counts[value] = 1\n",
    "    \n",
    "    return max(counts, key = counts.get)"
   ]
  },
  {
   "cell_type": "code",
   "execution_count": 22,
   "metadata": {},
   "outputs": [
    {
     "data": {
      "text/plain": [
       "count      2930\n",
       "unique        6\n",
       "top       Gable\n",
       "freq       2321\n",
       "Name: Roof Style, dtype: object"
      ]
     },
     "execution_count": 22,
     "metadata": {},
     "output_type": "execute_result"
    }
   ],
   "source": [
    "scale_land = 'ordinal'\n",
    "\n",
    "houses['Roof Style'].describe()"
   ]
  },
  {
   "cell_type": "code",
   "execution_count": 24,
   "metadata": {},
   "outputs": [
    {
     "data": {
      "text/plain": [
       "Gable      2321\n",
       "Hip         551\n",
       "Gambrel      22\n",
       "Flat         20\n",
       "Mansard      11\n",
       "Shed          5\n",
       "Name: Roof Style, dtype: int64"
      ]
     },
     "execution_count": 24,
     "metadata": {},
     "output_type": "execute_result"
    }
   ],
   "source": [
    "houses['Roof Style'].value_counts()"
   ]
  },
  {
   "cell_type": "code",
   "execution_count": 25,
   "metadata": {},
   "outputs": [],
   "source": [
    "scale_roof = 'nominal'"
   ]
  },
  {
   "cell_type": "code",
   "execution_count": 26,
   "metadata": {},
   "outputs": [
    {
     "data": {
      "text/plain": [
       "0    1\n",
       "1    1\n",
       "2    1\n",
       "3    1\n",
       "4    1\n",
       "Name: Kitchen AbvGr, dtype: int64"
      ]
     },
     "execution_count": 26,
     "metadata": {},
     "output_type": "execute_result"
    }
   ],
   "source": [
    "houses['Kitchen AbvGr'].head()"
   ]
  },
  {
   "attachments": {},
   "cell_type": "markdown",
   "metadata": {},
   "source": [
    "## Skewed Distributions\n",
    "\n",
    "When we plot a histogram or a kernel density plot to visualize the shape of a distribution, the mode will always be the peak of the distribution. In the code below, we plot a kernel density plot to visualize the shape of the SalePrice variable and:\n",
    "\n",
    "+ Set the limits of the x-axis using the xlim parameter — the lowest limit is the minimum value in the SalePrice variable, and the upper limit is the maximum value.\n",
    "+ Plot a vertical line to indicate the position of the mode (note that our estimate of 150000 from the last exercise is quite close to the peak of the distribution)."
   ]
  },
  {
   "cell_type": "code",
   "execution_count": 30,
   "metadata": {},
   "outputs": [
    {
     "data": {
      "text/plain": [
       "<matplotlib.lines.Line2D at 0x7f0749378d90>"
      ]
     },
     "execution_count": 30,
     "metadata": {},
     "output_type": "execute_result"
    },
    {
     "data": {
      "image/png": "[encoded data removed]",
      "text/plain": [
       "<Figure size 640x480 with 1 Axes>"
      ]
     },
     "metadata": {},
     "output_type": "display_data"
    }
   ],
   "source": [
    "houses['SalePrice'].plot.kde(xlim = (houses['SalePrice'].min(),\n",
    "                                  houses['SalePrice'].max()))\n",
    "\n",
    "import matplotlib.pyplot as plt\n",
    "plt.axvline(150000, color = 'Green')"
   ]
  },
  {
   "attachments": {},
   "cell_type": "markdown",
   "metadata": {},
   "source": [
    "This distribution is clearly right skewed. Generally, the location of the mode, median and mean is predictable for a right-skewed distribution:\n",
    "\n",
    "+ Most values are concentrated in the left body of the distribution where they will form a peak — this is where the mode will be.\n",
    "\n",
    "+ Remember that the median divides a distribution in two halves of equal length. For this reason, the median is usually positioned slightly right from the peak (the mode) for a right-skewed distribution.\n",
    "+ The mean takes into account each value in the distribution, and it will be affected by the outliers in the right tail. This will generally pull the mean to the right of the median.\n",
    "\n",
    "So in a right-skewed distribution, the mean will usually be to the right of the median, and the median will be to the right of the mode. This holds true for the distribution of the SalePrice variable:"
   ]
  },
  {
   "cell_type": "code",
   "execution_count": 31,
   "metadata": {},
   "outputs": [
    {
     "data": {
      "text/plain": [
       "<matplotlib.legend.Legend at 0x7f0746c91400>"
      ]
     },
     "execution_count": 31,
     "metadata": {},
     "output_type": "execute_result"
    },
    {
     "data": {
      "image/png": "[encoded data removed]",
      "text/plain": [
       "<Figure size 640x480 with 1 Axes>"
      ]
     },
     "metadata": {},
     "output_type": "display_data"
    }
   ],
   "source": [
    "houses['SalePrice'].plot.kde(xlim = (houses['SalePrice'].min(),\n",
    "                                     houses['SalePrice'].max()\n",
    "                                    )\n",
    "                            )\n",
    "plt.axvline(150000, color = 'Green', label = 'Mode')\n",
    "plt.axvline(houses['SalePrice'].median(), color = 'Black', label = 'Median')\n",
    "plt.axvline(houses['SalePrice'].mean(), color = 'Orange', label = 'Mean')\n",
    "plt.legend()"
   ]
  },
  {
   "attachments": {},
   "cell_type": "markdown",
   "metadata": {},
   "source": [
    "### Task\n",
    "\n",
    "The distribution of the Mo Sold variable (which describes the month of a sale) is close to normal.\n",
    "+ Plot a kernel density plot for this distribution using Series.plot.kde().\n",
    "+ The lower boundary of the x-axis should be 1 and the upper one 12. You can use the xlim parameter of the Series.plot.kde() method.\n",
    "    + Plot three vertical lines:\n",
    "        + One for the mode — the color of the line should be green and its label should be 'Mode'.\n",
    "        + One for the median — the color of the line should be orange and its label should be 'Median'.\n",
    "        + One for the mean — the color of the line should be black and its label should be 'Mean'.\n",
    "+ Display all the labels using a legend (you can activate the legend using plt.legend().\n",
    "\n",
    "+ You should observe the mean, the median, and the mode clustered together in the center of the distribution.\n"
   ]
  },
  {
   "cell_type": "code",
   "execution_count": 32,
   "metadata": {},
   "outputs": [
    {
     "data": {
      "text/plain": [
       "<matplotlib.legend.Legend at 0x7f07498d80d0>"
      ]
     },
     "execution_count": 32,
     "metadata": {},
     "output_type": "execute_result"
    },
    {
     "data": {
      "image/png": "[encoded data removed]",
      "text/plain": [
       "<Figure size 640x480 with 1 Axes>"
      ]
     },
     "metadata": {},
     "output_type": "display_data"
    }
   ],
   "source": [
    "houses['Mo Sold'].plot.kde(xlim = (1,12))\n",
    "plt.axvline(6, color = 'Green', label = 'Mode')\n",
    "plt.axvline(houses['Mo Sold'].median(), color = 'Orange', label = 'Median')\n",
    "plt.axvline(houses['Mo Sold'].mean(), color = 'Black', label = 'Mean')\n",
    "plt.legend()\n"
   ]
  },
  {
   "attachments": {},
   "cell_type": "markdown",
   "metadata": {},
   "source": [
    "![Mean, Mode, Media](img/s2m3_summary.svg)"
   ]
  }
 ],
 "metadata": {
  "kernelspec": {
   "display_name": "base",
   "language": "python",
   "name": "python3"
  },
  "language_info": {
   "codemirror_mode": {
    "name": "ipython",
    "version": 3
   },
   "file_extension": ".py",
   "mimetype": "text/x-python",
   "name": "python",
   "nbconvert_exporter": "python",
   "pygments_lexer": "ipython3",
   "version": "3.9.12 (main, Apr  5 2022, 06:56:58) \n[GCC 7.5.0]"
  },
  "orig_nbformat": 4,
  "vscode": {
   "interpreter": {
    "hash": "d0028ce20b428eb90286e675cfc9d586ae702ba0463c3d3b035a87d9639116bc"
   }
  }
 },
 "nbformat": 4,
 "nbformat_minor": 2
}
