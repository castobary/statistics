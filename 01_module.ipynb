{
 "cells": [
  {
   "attachments": {},
   "cell_type": "markdown",
   "metadata": {},
   "source": [
    "## Sampling Error\n",
    "\n",
    "Sampling error is the difference in statistics (sample information) and the actually population parameters.\n",
    "\n",
    "`sampling error = parameter - statistic`"
   ]
  },
  {
   "attachments": {},
   "cell_type": "markdown",
   "metadata": {},
   "source": [
    "### Task One"
   ]
  },
  {
   "attachments": {},
   "cell_type": "markdown",
   "metadata": {},
   "source": [
    "Given the data wnba.csv in the folder data.\n",
    "\n",
    "The dataset is about basketball players in the WNBA (Women's National Basketball Association), and contains general information about players, along with their metrics for the 2016-2017 season."
   ]
  },
  {
   "attachments": {},
   "cell_type": "markdown",
   "metadata": {},
   "source": [
    "Explore the dataset.\n",
    "\n",
    "+ Print the first five rows using DataFrame.head() and the last five rows with DataFrame.tail().\n",
    "+ Find the number of rows and columns using DataFrame.shape.\n",
    "+ Learn about each column from the documentation. You can also find useful documentation in this glossary and on WNBA's official page.\n",
    "\n",
    "Take one measure of the sampling error.\n",
    "\n",
    "+ Use the Games Played column to find the maximum number of games played by a player in the 2016-2017 season. The dataset contains all the players who played at least one game, so it's a population relative to our question. Find this parameter, and assign the result to a variable named parameter.\n",
    "+ Using the `DataFrame.sample()` method, randomly sample 30 players from the population, and assign the result to a variable named sample.\n",
    "+ When calling `Series.sample()`, use the argument random_state = 1. This makes your results reproducible, and it helps us with the answer-checking (we'll discuss this on the next screen).\n",
    "+ Find the maximum number of games using the sample, and assign the result to a variable named statistic.\n",
    "+ Measure the sampling error, and assign the result to a variable named sampling_error.\n"
   ]
  },
  {
   "cell_type": "code",
   "execution_count": 11,
   "metadata": {},
   "outputs": [],
   "source": [
    "import pandas as pd\n",
    "import matplotlib.pyplot as plt\n",
    "\n",
    "path = \"data/wnba.csv\"\n",
    "\n",
    "wnba = pd.read_csv(path)"
   ]
  },
  {
   "cell_type": "code",
   "execution_count": 3,
   "metadata": {},
   "outputs": [
    {
     "data": {
      "text/html": [
       "<div>\n",
       "<style scoped>\n",
       "    .dataframe tbody tr th:only-of-type {\n",
       "        vertical-align: middle;\n",
       "    }\n",
       "\n",
       "    .dataframe tbody tr th {\n",
       "        vertical-align: top;\n",
       "    }\n",
       "\n",
       "    .dataframe thead th {\n",
       "        text-align: right;\n",
       "    }\n",
       "</style>\n",
       "<table border=\"1\" class=\"dataframe\">\n",
       "  <thead>\n",
       "    <tr style=\"text-align: right;\">\n",
       "      <th></th>\n",
       "      <th>Name</th>\n",
       "      <th>Team</th>\n",
       "      <th>Pos</th>\n",
       "      <th>Height</th>\n",
       "      <th>Weight</th>\n",
       "      <th>BMI</th>\n",
       "      <th>Birth_Place</th>\n",
       "      <th>Birthdate</th>\n",
       "      <th>Age</th>\n",
       "      <th>College</th>\n",
       "      <th>...</th>\n",
       "      <th>OREB</th>\n",
       "      <th>DREB</th>\n",
       "      <th>REB</th>\n",
       "      <th>AST</th>\n",
       "      <th>STL</th>\n",
       "      <th>BLK</th>\n",
       "      <th>TO</th>\n",
       "      <th>PTS</th>\n",
       "      <th>DD2</th>\n",
       "      <th>TD3</th>\n",
       "    </tr>\n",
       "  </thead>\n",
       "  <tbody>\n",
       "    <tr>\n",
       "      <th>0</th>\n",
       "      <td>Aerial Powers</td>\n",
       "      <td>DAL</td>\n",
       "      <td>F</td>\n",
       "      <td>183</td>\n",
       "      <td>71.0</td>\n",
       "      <td>21.200991</td>\n",
       "      <td>US</td>\n",
       "      <td>January 17, 1994</td>\n",
       "      <td>23</td>\n",
       "      <td>Michigan State</td>\n",
       "      <td>...</td>\n",
       "      <td>6</td>\n",
       "      <td>22</td>\n",
       "      <td>28</td>\n",
       "      <td>12</td>\n",
       "      <td>3</td>\n",
       "      <td>6</td>\n",
       "      <td>12</td>\n",
       "      <td>93</td>\n",
       "      <td>0</td>\n",
       "      <td>0</td>\n",
       "    </tr>\n",
       "    <tr>\n",
       "      <th>1</th>\n",
       "      <td>Alana Beard</td>\n",
       "      <td>LA</td>\n",
       "      <td>G/F</td>\n",
       "      <td>185</td>\n",
       "      <td>73.0</td>\n",
       "      <td>21.329438</td>\n",
       "      <td>US</td>\n",
       "      <td>May 14, 1982</td>\n",
       "      <td>35</td>\n",
       "      <td>Duke</td>\n",
       "      <td>...</td>\n",
       "      <td>19</td>\n",
       "      <td>82</td>\n",
       "      <td>101</td>\n",
       "      <td>72</td>\n",
       "      <td>63</td>\n",
       "      <td>13</td>\n",
       "      <td>40</td>\n",
       "      <td>217</td>\n",
       "      <td>0</td>\n",
       "      <td>0</td>\n",
       "    </tr>\n",
       "    <tr>\n",
       "      <th>2</th>\n",
       "      <td>Alex Bentley</td>\n",
       "      <td>CON</td>\n",
       "      <td>G</td>\n",
       "      <td>170</td>\n",
       "      <td>69.0</td>\n",
       "      <td>23.875433</td>\n",
       "      <td>US</td>\n",
       "      <td>October 27, 1990</td>\n",
       "      <td>26</td>\n",
       "      <td>Penn State</td>\n",
       "      <td>...</td>\n",
       "      <td>4</td>\n",
       "      <td>36</td>\n",
       "      <td>40</td>\n",
       "      <td>78</td>\n",
       "      <td>22</td>\n",
       "      <td>3</td>\n",
       "      <td>24</td>\n",
       "      <td>218</td>\n",
       "      <td>0</td>\n",
       "      <td>0</td>\n",
       "    </tr>\n",
       "    <tr>\n",
       "      <th>3</th>\n",
       "      <td>Alex Montgomery</td>\n",
       "      <td>SAN</td>\n",
       "      <td>G/F</td>\n",
       "      <td>185</td>\n",
       "      <td>84.0</td>\n",
       "      <td>24.543462</td>\n",
       "      <td>US</td>\n",
       "      <td>December 11, 1988</td>\n",
       "      <td>28</td>\n",
       "      <td>Georgia Tech</td>\n",
       "      <td>...</td>\n",
       "      <td>35</td>\n",
       "      <td>134</td>\n",
       "      <td>169</td>\n",
       "      <td>65</td>\n",
       "      <td>20</td>\n",
       "      <td>10</td>\n",
       "      <td>38</td>\n",
       "      <td>188</td>\n",
       "      <td>2</td>\n",
       "      <td>0</td>\n",
       "    </tr>\n",
       "    <tr>\n",
       "      <th>4</th>\n",
       "      <td>Alexis Jones</td>\n",
       "      <td>MIN</td>\n",
       "      <td>G</td>\n",
       "      <td>175</td>\n",
       "      <td>78.0</td>\n",
       "      <td>25.469388</td>\n",
       "      <td>US</td>\n",
       "      <td>August 5, 1994</td>\n",
       "      <td>23</td>\n",
       "      <td>Baylor</td>\n",
       "      <td>...</td>\n",
       "      <td>3</td>\n",
       "      <td>9</td>\n",
       "      <td>12</td>\n",
       "      <td>12</td>\n",
       "      <td>7</td>\n",
       "      <td>0</td>\n",
       "      <td>14</td>\n",
       "      <td>50</td>\n",
       "      <td>0</td>\n",
       "      <td>0</td>\n",
       "    </tr>\n",
       "  </tbody>\n",
       "</table>\n",
       "<p>5 rows × 32 columns</p>\n",
       "</div>"
      ],
      "text/plain": [
       "              Name Team  Pos  Height  Weight        BMI Birth_Place  \\\n",
       "0    Aerial Powers  DAL    F     183    71.0  21.200991          US   \n",
       "1      Alana Beard   LA  G/F     185    73.0  21.329438          US   \n",
       "2     Alex Bentley  CON    G     170    69.0  23.875433          US   \n",
       "3  Alex Montgomery  SAN  G/F     185    84.0  24.543462          US   \n",
       "4     Alexis Jones  MIN    G     175    78.0  25.469388          US   \n",
       "\n",
       "           Birthdate  Age         College  ... OREB  DREB  REB  AST  STL  BLK  \\\n",
       "0   January 17, 1994   23  Michigan State  ...    6    22   28   12    3    6   \n",
       "1       May 14, 1982   35            Duke  ...   19    82  101   72   63   13   \n",
       "2   October 27, 1990   26      Penn State  ...    4    36   40   78   22    3   \n",
       "3  December 11, 1988   28    Georgia Tech  ...   35   134  169   65   20   10   \n",
       "4     August 5, 1994   23          Baylor  ...    3     9   12   12    7    0   \n",
       "\n",
       "   TO  PTS  DD2  TD3  \n",
       "0  12   93    0    0  \n",
       "1  40  217    0    0  \n",
       "2  24  218    0    0  \n",
       "3  38  188    2    0  \n",
       "4  14   50    0    0  \n",
       "\n",
       "[5 rows x 32 columns]"
      ]
     },
     "execution_count": 3,
     "metadata": {},
     "output_type": "execute_result"
    }
   ],
   "source": [
    "wnba.head()"
   ]
  },
  {
   "cell_type": "code",
   "execution_count": 4,
   "metadata": {},
   "outputs": [
    {
     "data": {
      "text/html": [
       "<div>\n",
       "<style scoped>\n",
       "    .dataframe tbody tr th:only-of-type {\n",
       "        vertical-align: middle;\n",
       "    }\n",
       "\n",
       "    .dataframe tbody tr th {\n",
       "        vertical-align: top;\n",
       "    }\n",
       "\n",
       "    .dataframe thead th {\n",
       "        text-align: right;\n",
       "    }\n",
       "</style>\n",
       "<table border=\"1\" class=\"dataframe\">\n",
       "  <thead>\n",
       "    <tr style=\"text-align: right;\">\n",
       "      <th></th>\n",
       "      <th>Name</th>\n",
       "      <th>Team</th>\n",
       "      <th>Pos</th>\n",
       "      <th>Height</th>\n",
       "      <th>Weight</th>\n",
       "      <th>BMI</th>\n",
       "      <th>Birth_Place</th>\n",
       "      <th>Birthdate</th>\n",
       "      <th>Age</th>\n",
       "      <th>College</th>\n",
       "      <th>...</th>\n",
       "      <th>OREB</th>\n",
       "      <th>DREB</th>\n",
       "      <th>REB</th>\n",
       "      <th>AST</th>\n",
       "      <th>STL</th>\n",
       "      <th>BLK</th>\n",
       "      <th>TO</th>\n",
       "      <th>PTS</th>\n",
       "      <th>DD2</th>\n",
       "      <th>TD3</th>\n",
       "    </tr>\n",
       "  </thead>\n",
       "  <tbody>\n",
       "    <tr>\n",
       "      <th>138</th>\n",
       "      <td>Tiffany Hayes</td>\n",
       "      <td>ATL</td>\n",
       "      <td>G</td>\n",
       "      <td>178</td>\n",
       "      <td>70.0</td>\n",
       "      <td>22.093170</td>\n",
       "      <td>US</td>\n",
       "      <td>September 20, 1989</td>\n",
       "      <td>27</td>\n",
       "      <td>Connecticut</td>\n",
       "      <td>...</td>\n",
       "      <td>28</td>\n",
       "      <td>89</td>\n",
       "      <td>117</td>\n",
       "      <td>69</td>\n",
       "      <td>37</td>\n",
       "      <td>8</td>\n",
       "      <td>50</td>\n",
       "      <td>467</td>\n",
       "      <td>0</td>\n",
       "      <td>0</td>\n",
       "    </tr>\n",
       "    <tr>\n",
       "      <th>139</th>\n",
       "      <td>Tiffany Jackson</td>\n",
       "      <td>LA</td>\n",
       "      <td>F</td>\n",
       "      <td>191</td>\n",
       "      <td>84.0</td>\n",
       "      <td>23.025685</td>\n",
       "      <td>US</td>\n",
       "      <td>April 26, 1985</td>\n",
       "      <td>32</td>\n",
       "      <td>Texas</td>\n",
       "      <td>...</td>\n",
       "      <td>5</td>\n",
       "      <td>18</td>\n",
       "      <td>23</td>\n",
       "      <td>3</td>\n",
       "      <td>1</td>\n",
       "      <td>3</td>\n",
       "      <td>8</td>\n",
       "      <td>28</td>\n",
       "      <td>0</td>\n",
       "      <td>0</td>\n",
       "    </tr>\n",
       "    <tr>\n",
       "      <th>140</th>\n",
       "      <td>Tiffany Mitchell</td>\n",
       "      <td>IND</td>\n",
       "      <td>G</td>\n",
       "      <td>175</td>\n",
       "      <td>69.0</td>\n",
       "      <td>22.530612</td>\n",
       "      <td>US</td>\n",
       "      <td>September 23, 1984</td>\n",
       "      <td>32</td>\n",
       "      <td>South Carolina</td>\n",
       "      <td>...</td>\n",
       "      <td>16</td>\n",
       "      <td>70</td>\n",
       "      <td>86</td>\n",
       "      <td>39</td>\n",
       "      <td>31</td>\n",
       "      <td>5</td>\n",
       "      <td>40</td>\n",
       "      <td>277</td>\n",
       "      <td>0</td>\n",
       "      <td>0</td>\n",
       "    </tr>\n",
       "    <tr>\n",
       "      <th>141</th>\n",
       "      <td>Tina Charles</td>\n",
       "      <td>NY</td>\n",
       "      <td>F/C</td>\n",
       "      <td>193</td>\n",
       "      <td>84.0</td>\n",
       "      <td>22.550941</td>\n",
       "      <td>US</td>\n",
       "      <td>May 12, 1988</td>\n",
       "      <td>29</td>\n",
       "      <td>Connecticut</td>\n",
       "      <td>...</td>\n",
       "      <td>56</td>\n",
       "      <td>212</td>\n",
       "      <td>268</td>\n",
       "      <td>75</td>\n",
       "      <td>21</td>\n",
       "      <td>22</td>\n",
       "      <td>71</td>\n",
       "      <td>582</td>\n",
       "      <td>11</td>\n",
       "      <td>0</td>\n",
       "    </tr>\n",
       "    <tr>\n",
       "      <th>142</th>\n",
       "      <td>Yvonne Turner</td>\n",
       "      <td>PHO</td>\n",
       "      <td>G</td>\n",
       "      <td>175</td>\n",
       "      <td>59.0</td>\n",
       "      <td>19.265306</td>\n",
       "      <td>US</td>\n",
       "      <td>October 13, 1987</td>\n",
       "      <td>29</td>\n",
       "      <td>Nebraska</td>\n",
       "      <td>...</td>\n",
       "      <td>11</td>\n",
       "      <td>13</td>\n",
       "      <td>24</td>\n",
       "      <td>30</td>\n",
       "      <td>18</td>\n",
       "      <td>1</td>\n",
       "      <td>32</td>\n",
       "      <td>151</td>\n",
       "      <td>0</td>\n",
       "      <td>0</td>\n",
       "    </tr>\n",
       "  </tbody>\n",
       "</table>\n",
       "<p>5 rows × 32 columns</p>\n",
       "</div>"
      ],
      "text/plain": [
       "                 Name Team  Pos  Height  Weight        BMI Birth_Place  \\\n",
       "138     Tiffany Hayes  ATL    G     178    70.0  22.093170          US   \n",
       "139   Tiffany Jackson   LA    F     191    84.0  23.025685          US   \n",
       "140  Tiffany Mitchell  IND    G     175    69.0  22.530612          US   \n",
       "141      Tina Charles   NY  F/C     193    84.0  22.550941          US   \n",
       "142     Yvonne Turner  PHO    G     175    59.0  19.265306          US   \n",
       "\n",
       "              Birthdate  Age         College  ... OREB  DREB  REB  AST  STL  \\\n",
       "138  September 20, 1989   27     Connecticut  ...   28    89  117   69   37   \n",
       "139      April 26, 1985   32           Texas  ...    5    18   23    3    1   \n",
       "140  September 23, 1984   32  South Carolina  ...   16    70   86   39   31   \n",
       "141        May 12, 1988   29     Connecticut  ...   56   212  268   75   21   \n",
       "142    October 13, 1987   29        Nebraska  ...   11    13   24   30   18   \n",
       "\n",
       "     BLK  TO  PTS  DD2  TD3  \n",
       "138    8  50  467    0    0  \n",
       "139    3   8   28    0    0  \n",
       "140    5  40  277    0    0  \n",
       "141   22  71  582   11    0  \n",
       "142    1  32  151    0    0  \n",
       "\n",
       "[5 rows x 32 columns]"
      ]
     },
     "execution_count": 4,
     "metadata": {},
     "output_type": "execute_result"
    }
   ],
   "source": [
    "wnba.tail()"
   ]
  },
  {
   "cell_type": "code",
   "execution_count": 5,
   "metadata": {},
   "outputs": [
    {
     "data": {
      "text/plain": [
       "(143, 32)"
      ]
     },
     "execution_count": 5,
     "metadata": {},
     "output_type": "execute_result"
    }
   ],
   "source": [
    "wnba.shape"
   ]
  },
  {
   "attachments": {},
   "cell_type": "markdown",
   "metadata": {},
   "source": [
    "the dataset has 143 rows and 32 columns"
   ]
  },
  {
   "attachments": {},
   "cell_type": "markdown",
   "metadata": {},
   "source": [
    "Maximum number of games played in the whole dataset"
   ]
  },
  {
   "cell_type": "code",
   "execution_count": 6,
   "metadata": {},
   "outputs": [],
   "source": [
    "parameter = wnba['Games Played'].max()"
   ]
  },
  {
   "attachments": {},
   "cell_type": "markdown",
   "metadata": {},
   "source": [
    "Generating a random sample of games player for 30 players"
   ]
  },
  {
   "cell_type": "code",
   "execution_count": 7,
   "metadata": {},
   "outputs": [],
   "source": [
    "sample = wnba['Games Played'].sample(30, random_state=1)"
   ]
  },
  {
   "attachments": {},
   "cell_type": "markdown",
   "metadata": {},
   "source": [
    "Sample maximum number of games played"
   ]
  },
  {
   "cell_type": "code",
   "execution_count": 8,
   "metadata": {},
   "outputs": [],
   "source": [
    "statistic = sample.max()"
   ]
  },
  {
   "attachments": {},
   "cell_type": "markdown",
   "metadata": {},
   "source": [
    "The sampling error is the difference between the two"
   ]
  },
  {
   "cell_type": "code",
   "execution_count": 10,
   "metadata": {},
   "outputs": [
    {
     "data": {
      "text/plain": [
       "2"
      ]
     },
     "execution_count": 10,
     "metadata": {},
     "output_type": "execute_result"
    }
   ],
   "source": [
    "sampling_error = parameter - statistic\n",
    "\n",
    "sampling_error"
   ]
  },
  {
   "attachments": {},
   "cell_type": "markdown",
   "metadata": {},
   "source": [
    "## Random Sampling"
   ]
  },
  {
   "attachments": {},
   "cell_type": "markdown",
   "metadata": {},
   "source": [
    "In sampling we want to minimize the sampling error as much as possible by determining a representative sample.\n",
    "Sampling error decreases as the sample representativity increases.\n",
    "\n",
    "![Sampling error decreases with representativity](img/s1m1_representativity.svg)\n"
   ]
  },
  {
   "attachments": {},
   "cell_type": "markdown",
   "metadata": {},
   "source": [
    "### Visualization of Simple Random Sampling Using Python"
   ]
  },
  {
   "attachments": {},
   "cell_type": "markdown",
   "metadata": {},
   "source": [
    "\n",
    "Using simple random sampling, take 100 samples of 10 values each from our WNBA data set, and for each sample, measure the average points scored by a player during the 2016-2017 season. For each of the 100 iterations of a for loop, do the following:\n",
    "\n",
    "+ Sample 10 values from the PTS column.\n",
    "+ Compute the mean of this sample made of 10 values from the PTS column, and append the result to a list.\n",
    "+ To make your results reproducible, vary the random_state parameter of the sample() method with values between 0 and 99. For the first iteration of the for loop, random_state should equal 0, for the second iteration should equal 1, for the third should equal 2, and so on.\n",
    "\n"
   ]
  },
  {
   "cell_type": "code",
   "execution_count": 14,
   "metadata": {},
   "outputs": [],
   "source": [
    "sample_means = []"
   ]
  },
  {
   "cell_type": "code",
   "execution_count": 13,
   "metadata": {},
   "outputs": [],
   "source": [
    "population_mean = wnba['PTS'].mean()"
   ]
  },
  {
   "cell_type": "code",
   "execution_count": 15,
   "metadata": {},
   "outputs": [],
   "source": [
    "for i in range(100):\n",
    "    sample = wnba['PTS'].sample(10, random_state=i)\n",
    "    sample_means.append(sample.mean())\n"
   ]
  },
  {
   "cell_type": "code",
   "execution_count": 18,
   "metadata": {},
   "outputs": [
    {
     "data": {
      "text/plain": [
       "187.80499999999995"
      ]
     },
     "execution_count": 18,
     "metadata": {},
     "output_type": "execute_result"
    }
   ],
   "source": [
    "sample_means = pd.Series(sample_means)\n",
    "sample_means.mean()"
   ]
  },
  {
   "attachments": {},
   "cell_type": "markdown",
   "metadata": {},
   "source": [
    "\n",
    "\n",
    "Display the discrepancy between the parameter of interest (the mean of the PTS column) and the statistics obtained in the previous step.\n",
    "\n",
    "+ Using `plt.scatter()`, display all the 100 sample means using a scatter plot. For the x-axis, use integers from 1 to 100 to designate the sample number. Use the y-axis for the sample means.\n",
    "+ Using `plt.axhline()`, draw a horizontal line that represents the average number of points for the population.\n",
    "\n"
   ]
  },
  {
   "cell_type": "code",
   "execution_count": 19,
   "metadata": {},
   "outputs": [
    {
     "data": {
      "text/plain": [
       "<matplotlib.lines.Line2D at 0x7fc70349de20>"
      ]
     },
     "execution_count": 19,
     "metadata": {},
     "output_type": "execute_result"
    },
    {
     "data": {
      "image/png": "[encoded data removed]",
      "text/plain": [
       "<Figure size 640x480 with 1 Axes>"
      ]
     },
     "metadata": {},
     "output_type": "display_data"
    }
   ],
   "source": [
    "plt.scatter(range(1,101), sample_means)\n",
    "plt.axhline(population_mean)"
   ]
  }
 ],
 "metadata": {
  "kernelspec": {
   "display_name": "base",
   "language": "python",
   "name": "python3"
  },
  "language_info": {
   "codemirror_mode": {
    "name": "ipython",
    "version": 3
   },
   "file_extension": ".py",
   "mimetype": "text/x-python",
   "name": "python",
   "nbconvert_exporter": "python",
   "pygments_lexer": "ipython3",
   "version": "3.9.12"
  },
  "orig_nbformat": 4,
  "vscode": {
   "interpreter": {
    "hash": "d0028ce20b428eb90286e675cfc9d586ae702ba0463c3d3b035a87d9639116bc"
   }
  }
 },
 "nbformat": 4,
 "nbformat_minor": 2
}
