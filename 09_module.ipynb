{
 "cells": [
  {
   "attachments": {},
   "cell_type": "markdown",
   "metadata": {},
   "source": [
    "## Effect Measures\n",
    "\n",
    "Sample Problems\n",
    "\n",
    "1. Consider the following numbers: 3, 4, 5\n",
    "Calculate the mean, standard deviation, and standard error."
   ]
  },
  {
   "cell_type": "code",
   "execution_count": 1,
   "metadata": {},
   "outputs": [],
   "source": [
    "numbers = [3,4,5]"
   ]
  },
  {
   "cell_type": "code",
   "execution_count": 5,
   "metadata": {},
   "outputs": [],
   "source": [
    "def calc_mean(x):\n",
    "    mean = sum(x)/len(x)\n",
    "    return mean"
   ]
  },
  {
   "cell_type": "code",
   "execution_count": 6,
   "metadata": {},
   "outputs": [
    {
     "data": {
      "text/plain": [
       "4.0"
      ]
     },
     "execution_count": 6,
     "metadata": {},
     "output_type": "execute_result"
    }
   ],
   "source": [
    "calc_mean(numbers)"
   ]
  },
  {
   "cell_type": "code",
   "execution_count": 23,
   "metadata": {},
   "outputs": [],
   "source": [
    "from math import sqrt\n",
    "\n",
    "def standard_deviation(array):\n",
    "    reference_point = sum(array) / len(array)\n",
    "    \n",
    "    distances = []\n",
    "    for value in array:\n",
    "        squared_distance = (value - reference_point)**2\n",
    "        distances.append(squared_distance)\n",
    "        \n",
    "    variance = sum(distances) / (len(distances) -1)\n",
    "    \n",
    "    return sqrt(variance)"
   ]
  },
  {
   "cell_type": "code",
   "execution_count": 24,
   "metadata": {},
   "outputs": [
    {
     "data": {
      "text/plain": [
       "1.0"
      ]
     },
     "execution_count": 24,
     "metadata": {},
     "output_type": "execute_result"
    }
   ],
   "source": [
    "standard_deviation(numbers)"
   ]
  },
  {
   "cell_type": "code",
   "execution_count": 9,
   "metadata": {},
   "outputs": [],
   "source": [
    "def se(sd,n):\n",
    "    return sd/sqrt(n)"
   ]
  },
  {
   "cell_type": "code",
   "execution_count": 10,
   "metadata": {},
   "outputs": [
    {
     "data": {
      "text/plain": [
       "0.4711178196587346"
      ]
     },
     "execution_count": 10,
     "metadata": {},
     "output_type": "execute_result"
    }
   ],
   "source": [
    "se(0.816,3)"
   ]
  },
  {
   "attachments": {},
   "cell_type": "markdown",
   "metadata": {},
   "source": [
    "2. The table below is from a randomized trial (Simonovich et al., 2021; NEJM) where\n",
    "convalescent plasma (CP) was used to treat Covid-19 severe pneumonia.\n",
    "\n",
    "|      | CP | Placebo|\n",
    "|------|----|--------|\n",
    "|Died  |25|11|\n",
    "|Survived |203|94|\n",
    "|      |228|105|"
   ]
  },
  {
   "attachments": {},
   "cell_type": "markdown",
   "metadata": {},
   "source": [
    "i. Calculate the risk difference between the two groups"
   ]
  },
  {
   "cell_type": "code",
   "execution_count": 11,
   "metadata": {},
   "outputs": [
    {
     "data": {
      "text/plain": [
       "0.004887218045112773"
      ]
     },
     "execution_count": 11,
     "metadata": {},
     "output_type": "execute_result"
    }
   ],
   "source": [
    "risk_cp = 25/228\n",
    "risk_placebo = 11/105\n",
    "rd = risk_cp - risk_placebo\n",
    "rd"
   ]
  },
  {
   "attachments": {},
   "cell_type": "markdown",
   "metadata": {},
   "source": [
    "ii. Calculate the risk ratio between the two groups"
   ]
  },
  {
   "cell_type": "code",
   "execution_count": 12,
   "metadata": {},
   "outputs": [
    {
     "data": {
      "text/plain": [
       "1.0466507177033493"
      ]
     },
     "execution_count": 12,
     "metadata": {},
     "output_type": "execute_result"
    }
   ],
   "source": [
    "rr = risk_cp/risk_placebo\n",
    "rr"
   ]
  },
  {
   "attachments": {},
   "cell_type": "markdown",
   "metadata": {},
   "source": [
    "iii. Calculate the odds ratio between the two groups"
   ]
  },
  {
   "cell_type": "code",
   "execution_count": 15,
   "metadata": {},
   "outputs": [
    {
     "data": {
      "text/plain": [
       "1.052395879982087"
      ]
     },
     "execution_count": 15,
     "metadata": {},
     "output_type": "execute_result"
    }
   ],
   "source": [
    "odds_cp = 25/203\n",
    "odds_placebo = 11/94\n",
    "odds_ratio = odds_cp/odds_placebo\n",
    "odds_ratio"
   ]
  },
  {
   "attachments": {},
   "cell_type": "markdown",
   "metadata": {},
   "source": [
    "iv. Does CP seem to prevent death from COVID-19?\n",
    "\n",
    "> No CP does not seem to prevent death from COVID-19"
   ]
  },
  {
   "attachments": {},
   "cell_type": "markdown",
   "metadata": {},
   "source": [
    "3. In a (simulated) randomized trial children received a treatment to prevent diarrhea. The\n",
    "table below shows the number of children who got diarrhea during the study period (6\n",
    "months) and the children who did not in each study arm.\n",
    "\n",
    "|   | Treatment | Placebo |\n",
    "|----|----------|-------|\n",
    "|Diarrhea | 38 | 74|\n",
    "|No Diarrhea |62 | 26|\n",
    "|  | 100 | 100|\n"
   ]
  },
  {
   "attachments": {},
   "cell_type": "markdown",
   "metadata": {},
   "source": [
    "i. Calculate the risk difference between the groups"
   ]
  },
  {
   "cell_type": "code",
   "execution_count": 16,
   "metadata": {},
   "outputs": [
    {
     "data": {
      "text/plain": [
       "-0.36"
      ]
     },
     "execution_count": 16,
     "metadata": {},
     "output_type": "execute_result"
    }
   ],
   "source": [
    "risk_t = 38/100\n",
    "risk_p = 74/100\n",
    "rd = risk_t - risk_p\n",
    "rd"
   ]
  },
  {
   "attachments": {},
   "cell_type": "markdown",
   "metadata": {},
   "source": [
    "ii. Calculate the risk ratio between the groups"
   ]
  },
  {
   "cell_type": "code",
   "execution_count": 17,
   "metadata": {},
   "outputs": [
    {
     "data": {
      "text/plain": [
       "0.5135135135135135"
      ]
     },
     "execution_count": 17,
     "metadata": {},
     "output_type": "execute_result"
    }
   ],
   "source": [
    "rr = risk_t/risk_p\n",
    "rr"
   ]
  },
  {
   "attachments": {},
   "cell_type": "markdown",
   "metadata": {},
   "source": [
    "iii. Calculate the odds ratio betweeen the groups"
   ]
  },
  {
   "cell_type": "code",
   "execution_count": 18,
   "metadata": {},
   "outputs": [
    {
     "data": {
      "text/plain": [
       "0.2153443766346992"
      ]
     },
     "execution_count": 18,
     "metadata": {},
     "output_type": "execute_result"
    }
   ],
   "source": [
    "odds_t = 38/62\n",
    "odds_p = 74/26\n",
    "odds_ratio = odds_t/odds_p\n",
    "odds_ratio"
   ]
  },
  {
   "attachments": {},
   "cell_type": "markdown",
   "metadata": {},
   "source": [
    "The study also noted time at first event of diarrhea, so that time at risk could be calculated,\n",
    "as seen in the table below\n",
    "\n",
    "|   | Treatment | Placebo |\n",
    "|----|----------|-------|\n",
    "|Diarrhea | 38 | 74|\n",
    "|Days at risk |12374 | 6790|\n",
    "|Weeks at risk | 1767.7 | 970|"
   ]
  },
  {
   "attachments": {},
   "cell_type": "markdown",
   "metadata": {},
   "source": [
    "iv. Why is the time at risk much shorter for the placebo group?\n",
    "\n",
    "> The time at risk was much shorter for the placebo group because individuals in the placebo group get the disease at much earlier time points and hence this makes their total time at risk much shorter compared to the individuals in the treatment group who get the disease much late making the have a longer time at risk"
   ]
  },
  {
   "attachments": {},
   "cell_type": "markdown",
   "metadata": {},
   "source": [
    "v. Calculate the incidence rate in each group for both days and weeks at risk"
   ]
  },
  {
   "cell_type": "code",
   "execution_count": 19,
   "metadata": {},
   "outputs": [],
   "source": [
    "# Incidence rate in days\n",
    "\n",
    "rrt_days = 38/12374\n",
    "rrp_days = 74/6790\n",
    "\n",
    "rrt_weeks = 38/1767.7\n",
    "rrp_weeks = 74/970"
   ]
  },
  {
   "attachments": {},
   "cell_type": "markdown",
   "metadata": {},
   "source": [
    "vi. Calculate the incidence rate ratio (IRR) between the groups for both days and weeks\n",
    "at risk. How does this compare to ii. and iii.?"
   ]
  },
  {
   "cell_type": "code",
   "execution_count": 20,
   "metadata": {},
   "outputs": [
    {
     "name": "stdout",
     "output_type": "stream",
     "text": [
      "The IRR using days at risk is 0.28178089193120714\n",
      "The IRR using weeks at risk is 0.28178316915093515\n"
     ]
    }
   ],
   "source": [
    "irr_days = rrt_days / rrp_days\n",
    "irr_weeks = rrt_weeks / rrp_weeks\n",
    "\n",
    "print(f'The IRR using days at risk is {irr_days}')\n",
    "print(f'The IRR using weeks at risk is {irr_weeks}')"
   ]
  },
  {
   "attachments": {},
   "cell_type": "markdown",
   "metadata": {},
   "source": [
    "The IRR using days at risk is equal to the IRR using weeks at risk."
   ]
  },
  {
   "attachments": {},
   "cell_type": "markdown",
   "metadata": {},
   "source": [
    "In the table below you find the total number of diarrhea events during the study period.\n",
    "\n",
    "|   | Treatment | Placebo |\n",
    "|----|----------|-------|\n",
    "|Diarrhea | 55 | 140|\n",
    "|Days at risk |18000 | 18000|\n",
    "|Weeks at risk | 2571.4 | 2571.4|\n",
    "\n",
    "+ The days at risk are the same because of the total followup time was six months considering that a person can have multiple episodes."
   ]
  },
  {
   "attachments": {},
   "cell_type": "markdown",
   "metadata": {},
   "source": [
    "vii. Calculate the incidence density in each group for both days and weeks at risk"
   ]
  },
  {
   "cell_type": "code",
   "execution_count": 25,
   "metadata": {},
   "outputs": [],
   "source": [
    "idt_days = 55/18000\n",
    "idp_days = 140/18000\n",
    "\n",
    "idt_weeks = 55/2571.4\n",
    "idp_weeks = 140/2571.4"
   ]
  },
  {
   "attachments": {},
   "cell_type": "markdown",
   "metadata": {},
   "source": [
    "viii. Calculate the incidence density ratio (IDR) between the groups for both days and\n",
    "weeks at risk. How does this compare to ii., iii., and v.?"
   ]
  },
  {
   "cell_type": "code",
   "execution_count": 26,
   "metadata": {},
   "outputs": [
    {
     "name": "stdout",
     "output_type": "stream",
     "text": [
      "The IDR using days at risk is 0.3928571428571429\n",
      "The IDR using weeks at risk is 0.39285714285714285\n"
     ]
    }
   ],
   "source": [
    "idr_days = idt_days/idp_days\n",
    "idr_weeks = idt_weeks/idp_weeks\n",
    "\n",
    "print(f'The IDR using days at risk is {idr_days}')\n",
    "print(f'The IDR using weeks at risk is {idr_weeks}')"
   ]
  }
 ],
 "metadata": {
  "kernelspec": {
   "display_name": "Python 3",
   "language": "python",
   "name": "python3"
  },
  "language_info": {
   "codemirror_mode": {
    "name": "ipython",
    "version": 3
   },
   "file_extension": ".py",
   "mimetype": "text/x-python",
   "name": "python",
   "nbconvert_exporter": "python",
   "pygments_lexer": "ipython3",
   "version": "3.10.9"
  },
  "orig_nbformat": 4,
  "vscode": {
   "interpreter": {
    "hash": "0e1f169f5711a90ff09b1ce155e8835a9bac5ac4c242468736f19be364069406"
   }
  }
 },
 "nbformat": 4,
 "nbformat_minor": 2
}
