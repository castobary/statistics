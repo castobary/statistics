{
 "cells": [
  {
   "cell_type": "markdown",
   "metadata": {},
   "source": [
    "## Measures of Variability"
   ]
  },
  {
   "attachments": {},
   "cell_type": "markdown",
   "metadata": {},
   "source": [
    "### Range\n",
    "\n",
    "The Range is the difference between the lowest and highest values.\n",
    "\n",
    "Example: In {4, 6, 9, 3, 7} the lowest value is 3, and the highest is 9.\n",
    "\n",
    "So the range is 9 − 3 = 6."
   ]
  },
  {
   "attachments": {},
   "cell_type": "markdown",
   "metadata": {},
   "source": [
    "#### The Range can be misleading\n",
    "\n",
    "The range can sometimes be misleading when there are extremely high or low values.\n",
    "\n",
    "Example: In {8, 11, 5, 9, 7, 6, 3616}:\n",
    "\n",
    "+ the lowest value is 5,\n",
    "+ and the highest is 3616,\n",
    "\n",
    "So the range is 3616 − 5 = 3611.\n",
    "\n",
    "The single value of 3616 makes the range large, but most values are around 10."
   ]
  },
  {
   "attachments": {},
   "cell_type": "markdown",
   "metadata": {},
   "source": [
    "#### Interquartile Range\n",
    "\n",
    "The interquartile range (IQR) contains the second and third quartiles, or the middle half of your data set. Whereas the range gives you the spread of the whole data set, the interquartile range gives you the range of the middle half of a data set"
   ]
  },
  {
   "attachments": {},
   "cell_type": "markdown",
   "metadata": {},
   "source": [
    "The interquartile range is not vulnerable to outliers, and whatever the distribution of the data, we know that 50% of them will lie within IQR"
   ]
  },
  {
   "attachments": {},
   "cell_type": "markdown",
   "metadata": {},
   "source": [
    "### Tasks\n",
    "\n",
    "Write a function that takes in an array of numerical values and returns the range of that array."
   ]
  },
  {
   "cell_type": "code",
   "execution_count": 1,
   "metadata": {},
   "outputs": [],
   "source": [
    "def find_range(array):   \n",
    "    return max(array) - min(array)"
   ]
  },
  {
   "cell_type": "code",
   "execution_count": 2,
   "metadata": {},
   "outputs": [],
   "source": [
    "import pandas as pd\n",
    "\n",
    "houses = pd.read_table('data/AmesHousing_1.txt')"
   ]
  },
  {
   "cell_type": "code",
   "execution_count": 8,
   "metadata": {},
   "outputs": [
    {
     "data": {
      "text/plain": [
       "742211"
      ]
     },
     "execution_count": 8,
     "metadata": {},
     "output_type": "execute_result"
    }
   ],
   "source": [
    "find_range(houses['SalePrice'])"
   ]
  },
  {
   "attachments": {},
   "cell_type": "markdown",
   "metadata": {},
   "source": [
    "## Standard Deviation\n",
    "\n",
    "Standard deviation is a statistic that measures the dispersion of a dataset relative to its mean and is calculated as the square root of the variance. The standard deviation is calculated as the square root of variance by determining each data point's deviation relative to the mean.\n",
    "\n",
    "If the data points are further from the mean, there is a higher deviation within the data set; thus, the more spread out the data, the higher the standard deviation. "
   ]
  },
  {
   "attachments": {},
   "cell_type": "markdown",
   "metadata": {},
   "source": [
    "\n",
    "\n",
    "Write a function that takes in a numerical array and returns the mean absolute deviation. Inside the function:\n",
    "\n",
    "+ Compute the mean of the array.\n",
    "+ Loop through the values of the array. For each iteration:\n",
    "\n",
    "    + Compute the absolute distance (deviation). You can use the `abs()` function.\n",
    "    + Append the absolute distance to a list.\n",
    "\n",
    "+ Return the mean of the list containing all the absolute distances.\n",
    "\n",
    "Compute the mean absolute deviation of distribution C  and assign the result to a variable named mad.\n",
    "\n",
    "+ Is the result considerably less than 20 but greater than 0, as we expected?\n"
   ]
  },
  {
   "cell_type": "code",
   "execution_count": 9,
   "metadata": {},
   "outputs": [],
   "source": [
    "C = [1,1,1,1,1,1,1,1,1,21]\n",
    "\n",
    "def mean_absolute_deviation(array):  \n",
    "    reference_point = sum(array) / len(array) \n",
    "    \n",
    "    distances = []    \n",
    "    \n",
    "    for value in array:     \n",
    "        absolute_distance = abs(value - reference_point)\n",
    "        distances.append(absolute_distance)  \n",
    "        return sum(distances) / len(distances)\n",
    " \n",
    "mad = mean_absolute_deviation(C)"
   ]
  },
  {
   "attachments": {},
   "cell_type": "markdown",
   "metadata": {},
   "source": [
    "## Variance\n",
    "\n",
    "The term variance refers to a statistical measurement of the spread between numbers in a data set. More specifically, variance measures how far each number in the set is from the mean (average), and thus from every other number in the set.\n",
    "\n",
    "Write a function that takes in a numerical array and returns the variance of that array. Inside the function:\n",
    "\n",
    "+ Compute the mean of the array.\n",
    "+ Loop through the values of the array. For each iteration:\n",
    "    + Compute the squared distance (squared deviation).\n",
    "    + Append the squared distance to a list.\n",
    "+ Return the mean of the list of squared distances.\n",
    "\n",
    "Compute the variance of distribution C, and assign the result to a variable named variance_C.\n",
    "\n",
    "+ Is the result considerably less than 20 but greater than 0, as we expected?"
   ]
  },
  {
   "cell_type": "code",
   "execution_count": 14,
   "metadata": {},
   "outputs": [],
   "source": [
    "# not working correctly?\n",
    "def calc_variance(array):  \n",
    "    reference_point = sum(array) / len(array) \n",
    "    \n",
    "    distances = []    \n",
    "    \n",
    "    for value in array:     \n",
    "        absolute_distance = abs(value - reference_point)\n",
    "        square_distance = absolute_distance**2\n",
    "        distances.append(square_distance)  \n",
    "        return sum(distances)\n",
    " \n",
    "my_var =calc_variance(C)"
   ]
  },
  {
   "attachments": {},
   "cell_type": "markdown",
   "metadata": {},
   "source": [
    "A function for standard deviation"
   ]
  },
  {
   "cell_type": "code",
   "execution_count": 17,
   "metadata": {},
   "outputs": [],
   "source": [
    "from math import sqrt\n",
    "\n",
    "def standard_deviation(array):\n",
    "    reference_point = sum(array) / len(array)\n",
    "    \n",
    "    distances = []\n",
    "    for value in array:\n",
    "        squared_distance = (value - reference_point)**2\n",
    "        distances.append(squared_distance)\n",
    "        \n",
    "    variance = sum(distances) / len(distances)\n",
    "    \n",
    "    return sqrt(variance)"
   ]
  },
  {
   "cell_type": "code",
   "execution_count": 18,
   "metadata": {},
   "outputs": [
    {
     "data": {
      "text/plain": [
       "6.0"
      ]
     },
     "execution_count": 18,
     "metadata": {},
     "output_type": "execute_result"
    }
   ],
   "source": [
    "standard_deviation(C)"
   ]
  },
  {
   "attachments": {},
   "cell_type": "markdown",
   "metadata": {},
   "source": [
    " standard deviation of the SalePrice variable should give us a picture about the diversity of prices on the real estate market.\n",
    "\n",
    "+ Find the year with the greatest variability of prices and assign the answer as an integer to the variable greatest_variability.\n",
    "+ Find the year with the lowest variability of prices and assign the answer as an integer to the variable lowest_variability.\n",
    "+ Use the function you wrote in the previous screen to measure the standard deviation of each year.\n",
    "+ You can find information about the years of sale in the Yr Sold column."
   ]
  },
  {
   "cell_type": "code",
   "execution_count": 19,
   "metadata": {},
   "outputs": [],
   "source": [
    "years = {}\n",
    "\n",
    "for year in houses['Yr Sold'].unique():\n",
    "    year_segment = houses[houses['Yr Sold'] == year]\n",
    "    st_dev = standard_deviation(year_segment['SalePrice'])\n",
    "    years[year] = st_dev\n",
    "\n",
    "# Get years of max and min variability\n",
    "greatest_variability = max(years, key = years.get) # outputs directly the year with the maximum variability\n",
    "lowest_variability = min(years, key = years.get) # outputs directly the year with the minimum variability"
   ]
  },
  {
   "attachments": {},
   "cell_type": "markdown",
   "metadata": {},
   "source": [
    "### sd: a measure of spread\n",
    "\n",
    "Another way to understand standard deviation is as a measure of spread in a distribution — values in a distribution can be more or less spread. We took four random samples of 50 sample points each from the SalePrice distribution, and plotted their histograms to visualize the spread for each sample:\n",
    "\n",
    "![Measuring spread](img/s2m4_spreads.svg)"
   ]
  },
  {
   "attachments": {},
   "cell_type": "markdown",
   "metadata": {},
   "source": [
    "According to our visual estimates, sample 2 has the biggest spread, while the other three samples have a similar spread, with sample 3 seemingly having the lowest spread. The standard deviations of these four distributions fit our visual estimates fairly well:"
   ]
  },
  {
   "cell_type": "code",
   "execution_count": 20,
   "metadata": {},
   "outputs": [
    {
     "name": "stdout",
     "output_type": "stream",
     "text": [
      "Sample 1: 81785.0811515768\n",
      "Sample 2: 100370.62998094413\n",
      "Sample 3: 60676.038515710636\n",
      "Sample 4: 64436.40016450328\n"
     ]
    }
   ],
   "source": [
    "for i in range(1,5):\n",
    "    sample = houses['SalePrice'].sample(50, random_state = i)\n",
    "    # we used the same random states for the samples in the graph above\n",
    "    st_dev = standard_deviation(sample)\n",
    "    print('Sample ' + str(i) + ': ' + str(st_dev))"
   ]
  },
  {
   "attachments": {},
   "cell_type": "markdown",
   "metadata": {},
   "source": [
    "Generate 4 random samples for \"Year Built\" and discuss their distribution"
   ]
  },
  {
   "cell_type": "code",
   "execution_count": 48,
   "metadata": {},
   "outputs": [
    {
     "name": "stdout",
     "output_type": "stream",
     "text": [
      "Sample 1: 29.239589600403075\n",
      "Sample 2: 32.466234767832255\n",
      "Sample 3: 29.649344006233928\n",
      "Sample 4: 28.253141418256483\n"
     ]
    },
    {
     "data": {
      "image/png": "[encoded data removed]",
      "text/plain": [
       "<Figure size 640x480 with 4 Axes>"
      ]
     },
     "metadata": {},
     "output_type": "display_data"
    }
   ],
   "source": [
    "import matplotlib.pyplot as plt\n",
    "%matplotlib inline\n",
    "plt.figure()\n",
    "for i in range(1,5):\n",
    "    sample = houses['Year Built'].sample(50, random_state = i)\n",
    "    # we used the same random states for the samples in the graph above\n",
    "    st_dev = standard_deviation(sample)\n",
    "    sample.plot.hist() \n",
    "    plt.subplot(2,2,i)\n",
    "    print('Sample ' + str(i) + ': ' + str(st_dev))"
   ]
  },
  {
   "attachments": {},
   "cell_type": "markdown",
   "metadata": {},
   "source": [
    "## Sample Standard Deviation\n",
    " Let's consider the data we have for SalePrice a population and sample it 5000 times. For each of the 5000 iterations of a for loop:\n",
    "    \n",
    "  + Sample 10 data points from the SalePrice variable using the Series.sample() method.\n",
    "        + The random_state of Series.sample() should be 0 for the first iteration, 1 for the second iteration, 2 for the third, and so on.\n",
    "  + Compute the standard deviation of the sample using the standard_deviation() function.\n",
    "  + Append the standard deviation to a list that will eventually store all the 5000 sample standard deviations.\n",
    "\n",
    "Generate a histogram using `plt.hist()` to visualize the distribution of the 5000 sample standard deviations.\n",
    "\n",
    "Draw a vertical line using `plt.axvline()` to mark the population standard deviation.\n",
    "\n",
    "Examine the histogram and try to figure out whether most sample standard deviations cluster above or below the population standard deviation, or right at the center of it.\n"
   ]
  },
  {
   "cell_type": "code",
   "execution_count": 49,
   "metadata": {},
   "outputs": [
    {
     "data": {
      "text/plain": [
       "<matplotlib.lines.Line2D at 0x7f081a575940>"
      ]
     },
     "execution_count": 49,
     "metadata": {},
     "output_type": "execute_result"
    },
    {
     "data": {
      "image/png": "[encoded data removed]",
      "text/plain": [
       "<Figure size 640x480 with 1 Axes>"
      ]
     },
     "metadata": {},
     "output_type": "display_data"
    }
   ],
   "source": [
    "st_devs = []\n",
    "\n",
    "for i in range(5000):\n",
    "    sample = houses['SalePrice'].sample(10, random_state = i)\n",
    "    st_dev = standard_deviation(sample)\n",
    "    st_devs.append(st_dev)\n",
    "    \n",
    "plt.hist(st_devs)\n",
    "plt.axvline(standard_deviation(houses['SalePrice']))"
   ]
  },
  {
   "attachments": {},
   "cell_type": "markdown",
   "metadata": {},
   "source": [
    "### Bessel's Correction\n",
    "\n",
    "we plotted the histogram of 5000 sample standard deviations and compared them against the population standard deviation. Notice that most sample standard deviations are clustered below the population standard deviation:\n",
    "\n",
    "![Cluster](img/s2m4_cluster.svg)"
   ]
  },
  {
   "attachments": {},
   "cell_type": "markdown",
   "metadata": {},
   "source": [
    "This suggests that the sample standard deviation usually underestimates the population standard deviation. We can also see that the mean of the 5000 sample standard deviations is below the population standard deviation:"
   ]
  },
  {
   "cell_type": "code",
   "execution_count": 50,
   "metadata": {},
   "outputs": [
    {
     "data": {
      "text/plain": [
       "71303.64762671624"
      ]
     },
     "execution_count": 50,
     "metadata": {},
     "output_type": "execute_result"
    }
   ],
   "source": [
    "sum(st_devs) / 5000"
   ]
  },
  {
   "cell_type": "code",
   "execution_count": 51,
   "metadata": {},
   "outputs": [
    {
     "data": {
      "text/plain": [
       "79873.05865192247"
      ]
     },
     "execution_count": 51,
     "metadata": {},
     "output_type": "execute_result"
    }
   ],
   "source": [
    "standard_deviation(houses['SalePrice'])"
   ]
  },
  {
   "attachments": {},
   "cell_type": "markdown",
   "metadata": {},
   "source": [
    "So we can say that the sample standard deviation underestimates on average the population standard deviation. Some sample standard deviations are lower than the population standard deviation, some are greater, some may even be equal to the population standard deviation, but on average the sample standard deviation is lower than the population standard deviation."
   ]
  },
  {
   "attachments": {},
   "cell_type": "markdown",
   "metadata": {},
   "source": [
    "We can get a good intuition for why the sample standard deviation underestimates if we think in terms of distribution spread. When we sample a population, it's generally more likely to get a sample with a spread that's lower than the population's spread. This generally translates to a lower standard deviation than in the population.\n",
    "\n",
    "![less variance](img/s2m4_less_var.svg)"
   ]
  },
  {
   "attachments": {},
   "cell_type": "markdown",
   "metadata": {},
   "source": [
    "Getting a sample with a higher standard deviation than in the population is possible, but this is less likely. This is mostly specific to samples with a high spread and no clusters.\n",
    "\n",
    "![more variance](img/s2m4_more_var.svg)"
   ]
  },
  {
   "attachments": {},
   "cell_type": "markdown",
   "metadata": {},
   "source": [
    "We'll decrease by 1 the denominator in the sample standard deviation formula to account for the underestimation"
   ]
  },
  {
   "attachments": {},
   "cell_type": "markdown",
   "metadata": {},
   "source": [
    "Implement Bessel's correction in standard deviation function"
   ]
  },
  {
   "cell_type": "code",
   "execution_count": 54,
   "metadata": {},
   "outputs": [
    {
     "data": {
      "text/plain": [
       "<matplotlib.lines.Line2D at 0x7f081987c400>"
      ]
     },
     "execution_count": 54,
     "metadata": {},
     "output_type": "execute_result"
    },
    {
     "data": {
      "image/png": "[encoded data removed]",
      "text/plain": [
       "<Figure size 640x480 with 1 Axes>"
      ]
     },
     "metadata": {},
     "output_type": "display_data"
    }
   ],
   "source": [
    "def standard_deviation(array):\n",
    "    reference_point = sum(array) / len(array)\n",
    "    \n",
    "    distances = []\n",
    "    for value in array:\n",
    "        squared_distance = (value - reference_point)**2\n",
    "        distances.append(squared_distance)\n",
    "    \n",
    "    variance = sum(distances) / (len(distances) - 1)\n",
    "    \n",
    "    return sqrt(variance)\n",
    "\n",
    "st_devs = []\n",
    "\n",
    "for i in range(5000):\n",
    "    sample = houses['SalePrice'].sample(10, random_state = i)\n",
    "    st_dev = standard_deviation(sample)\n",
    "    st_devs.append(st_dev)\n",
    "    \n",
    "plt.hist(st_devs)\n",
    "plt.axvline(standard_deviation(houses['SalePrice']))"
   ]
  },
  {
   "attachments": {},
   "cell_type": "markdown",
   "metadata": {},
   "source": [
    "+ Use the `Series.std()` method to compute the sample standard deviation for the SalePrice column. You can use the ddof parameter to choose between n and n−1. Save the result to a variable named pandas_stdev.\n",
    "\n",
    "+ Use the `numpy.std()` function to compute the sample standard deviation for the SalePrice column. You can use the ddof parameter to choose between nand n−1.   Save the result to a variable named numpy_stdev.\n",
    "\n",
    "+ Compare pandas_stdev with numpy_stdev using the == operator. Assign the result of the comparison to a variable named equal_stdevs.\n",
    "\n",
    "+ Use the `Series.var()` method to compute the sample variance for the SalePrice column. Assign the result to pandas_var.\n",
    "\n",
    "+ Use the `numpy.var()` function to compute the sample variance for the SalePrice column. Assign the result to numpy_var.\n",
    "\n",
    "+ Compare pandas_var with numpy_var using the == operator. Assign the result of the comparison to a variable named equal_vars."
   ]
  },
  {
   "cell_type": "code",
   "execution_count": 56,
   "metadata": {},
   "outputs": [],
   "source": [
    "sample = houses.sample(100, random_state = 1)\n",
    "from numpy import std, var\n",
    "pandas_stdev = sample['SalePrice'].std(ddof = 1) # default ddof = 1\n",
    "numpy_stdev = std(sample['SalePrice'], ddof = 1) # default ddof = 0\n",
    "equal_stdevs = pandas_stdev == numpy_stdev\n",
    "\n",
    "pandas_var = sample['SalePrice'].var(ddof = 1) # default ddof = 1\n",
    "numpy_var = var(sample['SalePrice'], ddof = 1) #default ddof = 0\n",
    "equal_vars = pandas_var == numpy_var"
   ]
  },
  {
   "cell_type": "code",
   "execution_count": 57,
   "metadata": {},
   "outputs": [
    {
     "data": {
      "text/plain": [
       "True"
      ]
     },
     "execution_count": 57,
     "metadata": {},
     "output_type": "execute_result"
    }
   ],
   "source": [
    "equal_vars"
   ]
  }
 ],
 "metadata": {
  "kernelspec": {
   "display_name": "base",
   "language": "python",
   "name": "python3"
  },
  "language_info": {
   "codemirror_mode": {
    "name": "ipython",
    "version": 3
   },
   "file_extension": ".py",
   "mimetype": "text/x-python",
   "name": "python",
   "nbconvert_exporter": "python",
   "pygments_lexer": "ipython3",
   "version": "3.9.12 (main, Apr  5 2022, 06:56:58) \n[GCC 7.5.0]"
  },
  "orig_nbformat": 4,
  "vscode": {
   "interpreter": {
    "hash": "d0028ce20b428eb90286e675cfc9d586ae702ba0463c3d3b035a87d9639116bc"
   }
  }
 },
 "nbformat": 4,
 "nbformat_minor": 2
}
