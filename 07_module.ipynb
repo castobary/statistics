{
 "cells": [
  {
   "cell_type": "markdown",
   "metadata": {},
   "source": [
    "## Measures of Variability"
   ]
  },
  {
   "attachments": {},
   "cell_type": "markdown",
   "metadata": {},
   "source": [
    "### Range\n",
    "\n",
    "The Range is the difference between the lowest and highest values.\n",
    "\n",
    "Example: In {4, 6, 9, 3, 7} the lowest value is 3, and the highest is 9.\n",
    "\n",
    "So the range is 9 − 3 = 6."
   ]
  },
  {
   "attachments": {},
   "cell_type": "markdown",
   "metadata": {},
   "source": [
    "#### The Range can be misleading\n",
    "\n",
    "The range can sometimes be misleading when there are extremely high or low values.\n",
    "\n",
    "Example: In {8, 11, 5, 9, 7, 6, 3616}:\n",
    "\n",
    "+ the lowest value is 5,\n",
    "+ and the highest is 3616,\n",
    "\n",
    "So the range is 3616 − 5 = 3611.\n",
    "\n",
    "The single value of 3616 makes the range large, but most values are around 10."
   ]
  },
  {
   "attachments": {},
   "cell_type": "markdown",
   "metadata": {},
   "source": [
    "#### Interquartile Range\n",
    "\n",
    "The interquartile range (IQR) contains the second and third quartiles, or the middle half of your data set. Whereas the range gives you the spread of the whole data set, the interquartile range gives you the range of the middle half of a data set"
   ]
  },
  {
   "attachments": {},
   "cell_type": "markdown",
   "metadata": {},
   "source": [
    "The interquartile range is not vulnerable to outliers, and whatever the distribution of the data, we know that 50% of them will lie within IQR"
   ]
  },
  {
   "attachments": {},
   "cell_type": "markdown",
   "metadata": {},
   "source": [
    "### Tasks\n",
    "\n",
    "Write a function that takes in an array of numerical values and returns the range of that array."
   ]
  },
  {
   "cell_type": "code",
   "execution_count": 1,
   "metadata": {},
   "outputs": [],
   "source": [
    "def find_range(array):   \n",
    "    return max(array) - min(array)"
   ]
  },
  {
   "cell_type": "code",
   "execution_count": 2,
   "metadata": {},
   "outputs": [],
   "source": [
    "import pandas as pd\n",
    "\n",
    "houses = pd.read_table('data/AmesHousing_1.txt')"
   ]
  },
  {
   "cell_type": "code",
   "execution_count": 8,
   "metadata": {},
   "outputs": [
    {
     "data": {
      "text/plain": [
       "742211"
      ]
     },
     "execution_count": 8,
     "metadata": {},
     "output_type": "execute_result"
    }
   ],
   "source": [
    "find_range(houses['SalePrice'])"
   ]
  },
  {
   "attachments": {},
   "cell_type": "markdown",
   "metadata": {},
   "source": [
    "## Standard Deviation\n",
    "\n",
    "Standard deviation is a statistic that measures the dispersion of a dataset relative to its mean and is calculated as the square root of the variance. The standard deviation is calculated as the square root of variance by determining each data point's deviation relative to the mean.\n",
    "\n",
    "If the data points are further from the mean, there is a higher deviation within the data set; thus, the more spread out the data, the higher the standard deviation. "
   ]
  },
  {
   "attachments": {},
   "cell_type": "markdown",
   "metadata": {},
   "source": [
    "\n",
    "\n",
    "Write a function that takes in a numerical array and returns the mean absolute deviation. Inside the function:\n",
    "\n",
    "+ Compute the mean of the array.\n",
    "+ Loop through the values of the array. For each iteration:\n",
    "\n",
    "    + Compute the absolute distance (deviation). You can use the `abs()` function.\n",
    "    + Append the absolute distance to a list.\n",
    "\n",
    "+ Return the mean of the list containing all the absolute distances.\n",
    "\n",
    "Compute the mean absolute deviation of distribution C  and assign the result to a variable named mad.\n",
    "\n",
    "+ Is the result considerably less than 20 but greater than 0, as we expected?\n"
   ]
  },
  {
   "cell_type": "code",
   "execution_count": 9,
   "metadata": {},
   "outputs": [],
   "source": [
    "C = [1,1,1,1,1,1,1,1,1,21]\n",
    "\n",
    "def mean_absolute_deviation(array):  \n",
    "    reference_point = sum(array) / len(array) \n",
    "    \n",
    "    distances = []    \n",
    "    \n",
    "    for value in array:     \n",
    "        absolute_distance = abs(value - reference_point)\n",
    "        distances.append(absolute_distance)  \n",
    "        return sum(distances) / len(distances)\n",
    " \n",
    "mad = mean_absolute_deviation(C)"
   ]
  },
  {
   "attachments": {},
   "cell_type": "markdown",
   "metadata": {},
   "source": [
    "## Variance\n",
    "\n",
    "The term variance refers to a statistical measurement of the spread between numbers in a data set. More specifically, variance measures how far each number in the set is from the mean (average), and thus from every other number in the set.\n",
    "\n",
    "Write a function that takes in a numerical array and returns the variance of that array. Inside the function:\n",
    "\n",
    "+ Compute the mean of the array.\n",
    "+ Loop through the values of the array. For each iteration:\n",
    "    + Compute the squared distance (squared deviation).\n",
    "    + Append the squared distance to a list.\n",
    "+ Return the mean of the list of squared distances.\n",
    "\n",
    "Compute the variance of distribution C, and assign the result to a variable named variance_C.\n",
    "\n",
    "+ Is the result considerably less than 20 but greater than 0, as we expected?"
   ]
  },
  {
   "cell_type": "code",
   "execution_count": 14,
   "metadata": {},
   "outputs": [],
   "source": [
    "# not working correctly?\n",
    "def calc_variance(array):  \n",
    "    reference_point = sum(array) / len(array) \n",
    "    \n",
    "    distances = []    \n",
    "    \n",
    "    for value in array:     \n",
    "        absolute_distance = abs(value - reference_point)\n",
    "        square_distance = absolute_distance**2\n",
    "        distances.append(square_distance)  \n",
    "        return sum(distances)\n",
    " \n",
    "my_var =calc_variance(C)"
   ]
  },
  {
   "attachments": {},
   "cell_type": "markdown",
   "metadata": {},
   "source": [
    "A function for standard deviation"
   ]
  },
  {
   "cell_type": "code",
   "execution_count": 17,
   "metadata": {},
   "outputs": [],
   "source": [
    "from math import sqrt\n",
    "\n",
    "def standard_deviation(array):\n",
    "    reference_point = sum(array) / len(array)\n",
    "    \n",
    "    distances = []\n",
    "    for value in array:\n",
    "        squared_distance = (value - reference_point)**2\n",
    "        distances.append(squared_distance)\n",
    "        \n",
    "    variance = sum(distances) / len(distances)\n",
    "    \n",
    "    return sqrt(variance)"
   ]
  },
  {
   "cell_type": "code",
   "execution_count": 18,
   "metadata": {},
   "outputs": [
    {
     "data": {
      "text/plain": [
       "6.0"
      ]
     },
     "execution_count": 18,
     "metadata": {},
     "output_type": "execute_result"
    }
   ],
   "source": [
    "standard_deviation(C)"
   ]
  },
  {
   "attachments": {},
   "cell_type": "markdown",
   "metadata": {},
   "source": [
    " standard deviation of the SalePrice variable should give us a picture about the diversity of prices on the real estate market.\n",
    "\n",
    "+ Find the year with the greatest variability of prices and assign the answer as an integer to the variable greatest_variability.\n",
    "+ Find the year with the lowest variability of prices and assign the answer as an integer to the variable lowest_variability.\n",
    "+ Use the function you wrote in the previous screen to measure the standard deviation of each year.\n",
    "+ You can find information about the years of sale in the Yr Sold column."
   ]
  },
  {
   "cell_type": "code",
   "execution_count": 19,
   "metadata": {},
   "outputs": [],
   "source": [
    "years = {}\n",
    "\n",
    "for year in houses['Yr Sold'].unique():\n",
    "    year_segment = houses[houses['Yr Sold'] == year]\n",
    "    st_dev = standard_deviation(year_segment['SalePrice'])\n",
    "    years[year] = st_dev\n",
    "\n",
    "# Get years of max and min variability\n",
    "greatest_variability = max(years, key = years.get) # outputs directly the year with the maximum variability\n",
    "lowest_variability = min(years, key = years.get) # outputs directly the year with the minimum variability"
   ]
  }
 ],
 "metadata": {
  "kernelspec": {
   "display_name": "base",
   "language": "python",
   "name": "python3"
  },
  "language_info": {
   "codemirror_mode": {
    "name": "ipython",
    "version": 3
   },
   "file_extension": ".py",
   "mimetype": "text/x-python",
   "name": "python",
   "nbconvert_exporter": "python",
   "pygments_lexer": "ipython3",
   "version": "3.9.12"
  },
  "orig_nbformat": 4,
  "vscode": {
   "interpreter": {
    "hash": "d0028ce20b428eb90286e675cfc9d586ae702ba0463c3d3b035a87d9639116bc"
   }
  }
 },
 "nbformat": 4,
 "nbformat_minor": 2
}
